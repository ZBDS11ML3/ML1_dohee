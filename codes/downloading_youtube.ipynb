{
 "cells": [
  {
   "cell_type": "code",
   "execution_count": 1,
   "metadata": {},
   "outputs": [
    {
     "name": "stdout",
     "output_type": "stream",
     "text": [
      "Collecting Pytube\n",
      "  Downloading pytube-12.1.3-py3-none-any.whl (57 kB)\n",
      "\u001b[2K     \u001b[90m━━━━━━━━━━━━━━━━━━━━━━━━━━━━━━━━━━━━━━━━\u001b[0m \u001b[32m57.2/57.2 kB\u001b[0m \u001b[31m1.5 MB/s\u001b[0m eta \u001b[36m0:00:00\u001b[0m\n",
      "\u001b[?25hInstalling collected packages: Pytube\n",
      "Successfully installed Pytube-12.1.3\n",
      "Note: you may need to restart the kernel to use updated packages.\n"
     ]
    }
   ],
   "source": [
    "%pip install Pytube"
   ]
  },
  {
   "cell_type": "code",
   "execution_count": 2,
   "metadata": {},
   "outputs": [
    {
     "data": {
      "text/plain": [
       "'/Users/dohee/Documents/ds_study/ML_project1/Metallica Enter Sandman (Official Music Video).3gpp'"
      ]
     },
     "execution_count": 2,
     "metadata": {},
     "output_type": "execute_result"
    }
   ],
   "source": [
    "from pytube import YouTube\n",
    "# 특정영상 다운로드\n",
    "# metallica - Enter Sandman 뮤직비디오\n",
    "YouTube('https://youtu.be/CD-E-LDc384').streams.first().download()"
   ]
  },
  {
   "cell_type": "code",
   "execution_count": null,
   "metadata": {},
   "outputs": [],
   "source": [
    "#재생목록 생성 후 다운로드\n",
    "from pytube import Playlist\n",
    "pl = Playlist(\"https://www.youtube.com/playlist?list=...\")\n",
    "pl.download_all() #파이썬 파일과 같은 위치\n",
    "\n",
    "#pl.download_all('./video') #저장위치"
   ]
  },
  {
   "cell_type": "code",
   "execution_count": 3,
   "metadata": {},
   "outputs": [
    {
     "name": "stderr",
     "output_type": "stream",
     "text": [
      "/var/folders/l4/c_yyc4653dzbw_s9qxhd31000000gn/T/ipykernel_18865/2670474707.py:6: DeprecationWarning: Call to deprecated function all (This object can be treated as a list, all() is useless).\n",
      "  print(yt.streams.filter(only_audio=True).all())\n"
     ]
    },
    {
     "name": "stdout",
     "output_type": "stream",
     "text": [
      "[<Stream: itag=\"139\" mime_type=\"audio/mp4\" abr=\"48kbps\" acodec=\"mp4a.40.5\" progressive=\"False\" type=\"audio\">, <Stream: itag=\"140\" mime_type=\"audio/mp4\" abr=\"128kbps\" acodec=\"mp4a.40.2\" progressive=\"False\" type=\"audio\">, <Stream: itag=\"249\" mime_type=\"audio/webm\" abr=\"50kbps\" acodec=\"opus\" progressive=\"False\" type=\"audio\">, <Stream: itag=\"250\" mime_type=\"audio/webm\" abr=\"70kbps\" acodec=\"opus\" progressive=\"False\" type=\"audio\">, <Stream: itag=\"251\" mime_type=\"audio/webm\" abr=\"160kbps\" acodec=\"opus\" progressive=\"False\" type=\"audio\">]\n"
     ]
    },
    {
     "ename": "TypeError",
     "evalue": "download() got an unexpected keyword argument 'format'",
     "output_type": "error",
     "traceback": [
      "\u001b[0;31m---------------------------------------------------------------------------\u001b[0m",
      "\u001b[0;31mTypeError\u001b[0m                                 Traceback (most recent call last)",
      "Cell \u001b[0;32mIn[3], line 9\u001b[0m\n\u001b[1;32m      6\u001b[0m \u001b[39mprint\u001b[39m(yt\u001b[39m.\u001b[39mstreams\u001b[39m.\u001b[39mfilter(only_audio\u001b[39m=\u001b[39m\u001b[39mTrue\u001b[39;00m)\u001b[39m.\u001b[39mall())\n\u001b[1;32m      8\u001b[0m \u001b[39m# 특정영상 다운로드\u001b[39;00m\n\u001b[0;32m----> 9\u001b[0m yt\u001b[39m.\u001b[39;49mstreams\u001b[39m.\u001b[39;49mfilter(only_audio\u001b[39m=\u001b[39;49m\u001b[39mTrue\u001b[39;49;00m)\u001b[39m.\u001b[39;49mfirst()\u001b[39m.\u001b[39;49mdownload(output_path\u001b[39m=\u001b[39;49m\u001b[39m\"\u001b[39;49m\u001b[39m/Users/dohee/Documents/ds_study/data/new_musics/\u001b[39;49m\u001b[39m\"\u001b[39;49m,\u001b[39mformat\u001b[39;49m\u001b[39m=\u001b[39;49m\u001b[39m\"\u001b[39;49m\u001b[39mwav\u001b[39;49m\u001b[39m\"\u001b[39;49m)\n\u001b[1;32m     11\u001b[0m \u001b[39mprint\u001b[39m(\u001b[39m'\u001b[39m\u001b[39msuccess\u001b[39m\u001b[39m'\u001b[39m)\n",
      "\u001b[0;31mTypeError\u001b[0m: download() got an unexpected keyword argument 'format'"
     ]
    }
   ],
   "source": [
    "from pytube import YouTube\n",
    "\n",
    "#유튜브 전용 인스턴스 생성\n",
    "yt = YouTube('https://youtu.be/CD-E-LDc384')\n",
    "\n",
    "print(yt.streams.filter(only_audio=True).all())\n",
    "\n",
    "# 특정영상 다운로드\n",
    "yt.streams.filter(only_audio=True,).first().download(output_path=\"/Users/dohee/Documents/ds_study/data/new_musics/\")\n",
    "\n",
    "print('success')"
   ]
  },
  {
   "cell_type": "code",
   "execution_count": 9,
   "metadata": {},
   "outputs": [],
   "source": [
    "#확장자 변경\n",
    "import glob\n",
    "import os.path\n",
    "\n",
    "files = glob.glob(\"/Users/dohee/Documents/ds_study/data/new_musics/Metallica Enter Sandman (Official Music Video).mp4\")\n",
    "for x in files:\n",
    "\tif not os.path.isdir(x):\n",
    "\t\tfilename = os.path.splitext(x)\n",
    "\t\ttry:\n",
    "\t\t\tos.rename(x,filename[0] + '.mp3')\n",
    "\t\texcept:\n",
    "\t\t\tpass"
   ]
  },
  {
   "cell_type": "code",
   "execution_count": 4,
   "metadata": {},
   "outputs": [],
   "source": [
    "#확장자 변경 to wav\n",
    "import glob\n",
    "import os.path\n",
    "import librosa\n",
    "\n",
    "files = glob.glob(\"/Users/dohee/Documents/ds_study/data/new_musics/Metallica Enter Sandman (Official Music Video).mp4\")\n",
    "for x in files:\n",
    "\tif not os.path.isdir(x):\n",
    "\t\tfilename = os.path.splitext(x)\n",
    "\t\ttry:\n",
    "\t\t\tos.rename(x,filename[0] + '.wav')\n",
    "\t\texcept:\n",
    "\t\t\tpass"
   ]
  },
  {
   "attachments": {},
   "cell_type": "markdown",
   "metadata": {},
   "source": [
    "---"
   ]
  }
 ],
 "metadata": {
  "kernelspec": {
   "display_name": "ds_study",
   "language": "python",
   "name": "python3"
  },
  "language_info": {
   "codemirror_mode": {
    "name": "ipython",
    "version": 3
   },
   "file_extension": ".py",
   "mimetype": "text/x-python",
   "name": "python",
   "nbconvert_exporter": "python",
   "pygments_lexer": "ipython3",
   "version": "3.8.16"
  },
  "orig_nbformat": 4,
  "vscode": {
   "interpreter": {
    "hash": "0ce28e86f3cdb977fe7a4d27bc2357f1d7ac89e755aa066857ac77edd380fd5a"
   }
  }
 },
 "nbformat": 4,
 "nbformat_minor": 2
}
