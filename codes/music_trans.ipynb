{
 "cells": [
  {
   "attachments": {},
   "cell_type": "markdown",
   "metadata": {},
   "source": [
    "## Blues"
   ]
  },
  {
   "attachments": {},
   "cell_type": "markdown",
   "metadata": {},
   "source": [
    "Slightly Hung Over - Blues Delight"
   ]
  },
  {
   "cell_type": "code",
   "execution_count": 1,
   "metadata": {},
   "outputs": [
    {
     "name": "stdout",
     "output_type": "stream",
     "text": [
      "Collecting pydub\n",
      "  Downloading pydub-0.25.1-py2.py3-none-any.whl (32 kB)\n",
      "Installing collected packages: pydub\n",
      "Successfully installed pydub-0.25.1\n",
      "Note: you may need to restart the kernel to use updated packages.\n"
     ]
    }
   ],
   "source": [
    "%pip install pydub"
   ]
  },
  {
   "cell_type": "code",
   "execution_count": 1,
   "metadata": {},
   "outputs": [],
   "source": [
    "import pandas as pd"
   ]
  },
  {
   "cell_type": "code",
   "execution_count": 2,
   "metadata": {},
   "outputs": [
    {
     "name": "stderr",
     "output_type": "stream",
     "text": [
      "/Users/dohee/Documents/ds_study/ML_project1/codes/genre_transition.py:7: UserWarning: PySoundFile failed. Trying audioread instead.\n",
      "  y, sr = librosa.load(file_path)\n",
      "/Users/dohee/miniforge3/envs/ds_study/lib/python3.8/site-packages/librosa/core/audio.py:184: FutureWarning: librosa.core.audio.__audioread_load\n",
      "\tDeprecated as of librosa version 0.10.0.\n",
      "\tIt will be removed in librosa version 1.0.\n",
      "  y, sr_native = __audioread_load(path, offset, duration, dtype)\n",
      "/Users/dohee/Documents/ds_study/ML_project1/codes/genre_transition.py:12: UserWarning: PySoundFile failed. Trying audioread instead.\n",
      "  new_y, new_sr = librosa.load(file_path,offset=start,duration=n)\n",
      "/Users/dohee/Documents/ds_study/ML_project1/codes/genre_transition.py:12: UserWarning: PySoundFile failed. Trying audioread instead.\n",
      "  new_y, new_sr = librosa.load(file_path,offset=start,duration=n)\n",
      "/Users/dohee/miniforge3/envs/ds_study/lib/python3.8/site-packages/librosa/core/audio.py:184: FutureWarning: librosa.core.audio.__audioread_load\n",
      "\tDeprecated as of librosa version 0.10.0.\n",
      "\tIt will be removed in librosa version 1.0.\n",
      "  y, sr_native = __audioread_load(path, offset, duration, dtype)\n",
      "/Users/dohee/Documents/ds_study/ML_project1/codes/genre_transition.py:70: UserWarning: PySoundFile failed. Trying audioread instead.\n",
      "  y, sr = librosa.load(file_path)\n",
      "/Users/dohee/Documents/ds_study/ML_project1/codes/genre_transition.py:75: UserWarning: PySoundFile failed. Trying audioread instead.\n",
      "  new_y, new_sr = librosa.load(file_path,offset=start, duration=n)\n"
     ]
    }
   ],
   "source": [
    "import genre_transition as gt\n",
    "path = \"/Users/dohee/Documents/ds_study/data/new_musics/Slightly Hung Over - Blues Delight (Lyrics Video).wav\"\n",
    "new_data1 = gt.feature_extraction(file_path=path, file_name='Blues Delight', n=3)\n",
    "new_data2 = gt.mfcc_extraction(file_path=path, file_name='Blues Delight', mfcc_n=20,n=3)"
   ]
  },
  {
   "cell_type": "code",
   "execution_count": 3,
   "metadata": {},
   "outputs": [],
   "source": [
    "new_data1 = pd.DataFrame(new_data1)\n",
    "new_data2 = pd.DataFrame(new_data2)\n",
    "\n",
    "new_data = pd.merge(new_data1, new_data2)"
   ]
  },
  {
   "cell_type": "code",
   "execution_count": 4,
   "metadata": {},
   "outputs": [
    {
     "data": {
      "text/html": [
       "<div>\n",
       "<style scoped>\n",
       "    .dataframe tbody tr th:only-of-type {\n",
       "        vertical-align: middle;\n",
       "    }\n",
       "\n",
       "    .dataframe tbody tr th {\n",
       "        vertical-align: top;\n",
       "    }\n",
       "\n",
       "    .dataframe thead th {\n",
       "        text-align: right;\n",
       "    }\n",
       "</style>\n",
       "<table border=\"1\" class=\"dataframe\">\n",
       "  <thead>\n",
       "    <tr style=\"text-align: right;\">\n",
       "      <th></th>\n",
       "      <th>path</th>\n",
       "      <th>split</th>\n",
       "      <th>filename</th>\n",
       "      <th>chroma_stft_mean</th>\n",
       "      <th>rms_mean</th>\n",
       "      <th>spectral_centroid_mean</th>\n",
       "      <th>spectral_bandwidth_mean</th>\n",
       "      <th>rolloff_mean</th>\n",
       "      <th>zero_crossing_rate_mean</th>\n",
       "      <th>chroma_stft_var</th>\n",
       "      <th>...</th>\n",
       "      <th>mfcc16_mean</th>\n",
       "      <th>mfcc16_var</th>\n",
       "      <th>mfcc17_mean</th>\n",
       "      <th>mfcc17_var</th>\n",
       "      <th>mfcc18_mean</th>\n",
       "      <th>mfcc18_var</th>\n",
       "      <th>mfcc19_mean</th>\n",
       "      <th>mfcc19_var</th>\n",
       "      <th>mfcc20_mean</th>\n",
       "      <th>mfcc20_var</th>\n",
       "    </tr>\n",
       "  </thead>\n",
       "  <tbody>\n",
       "    <tr>\n",
       "      <th>0</th>\n",
       "      <td>/Users/dohee/Documents/ds_study/data/new_music...</td>\n",
       "      <td>Blues Delight_0</td>\n",
       "      <td>Blues Delight</td>\n",
       "      <td>0.192086</td>\n",
       "      <td>0.154849</td>\n",
       "      <td>1588.408357</td>\n",
       "      <td>1514.770369</td>\n",
       "      <td>3027.651179</td>\n",
       "      <td>0.089457</td>\n",
       "      <td>0.090936</td>\n",
       "      <td>...</td>\n",
       "      <td>12.205647</td>\n",
       "      <td>206.839340</td>\n",
       "      <td>10.262403</td>\n",
       "      <td>190.625473</td>\n",
       "      <td>5.901454</td>\n",
       "      <td>187.873505</td>\n",
       "      <td>-1.242228</td>\n",
       "      <td>188.021591</td>\n",
       "      <td>-10.936927</td>\n",
       "      <td>171.740692</td>\n",
       "    </tr>\n",
       "    <tr>\n",
       "      <th>1</th>\n",
       "      <td>/Users/dohee/Documents/ds_study/data/new_music...</td>\n",
       "      <td>Blues Delight_1</td>\n",
       "      <td>Blues Delight</td>\n",
       "      <td>0.331300</td>\n",
       "      <td>0.123402</td>\n",
       "      <td>1133.394110</td>\n",
       "      <td>1715.548195</td>\n",
       "      <td>2516.071965</td>\n",
       "      <td>0.034431</td>\n",
       "      <td>0.097086</td>\n",
       "      <td>...</td>\n",
       "      <td>2.243439</td>\n",
       "      <td>70.534355</td>\n",
       "      <td>-0.422086</td>\n",
       "      <td>42.380650</td>\n",
       "      <td>4.531170</td>\n",
       "      <td>30.320847</td>\n",
       "      <td>-4.700673</td>\n",
       "      <td>56.282185</td>\n",
       "      <td>-10.486878</td>\n",
       "      <td>48.959728</td>\n",
       "    </tr>\n",
       "    <tr>\n",
       "      <th>2</th>\n",
       "      <td>/Users/dohee/Documents/ds_study/data/new_music...</td>\n",
       "      <td>Blues Delight_2</td>\n",
       "      <td>Blues Delight</td>\n",
       "      <td>0.269830</td>\n",
       "      <td>0.170665</td>\n",
       "      <td>1461.839001</td>\n",
       "      <td>1786.556183</td>\n",
       "      <td>3093.824369</td>\n",
       "      <td>0.060243</td>\n",
       "      <td>0.098290</td>\n",
       "      <td>...</td>\n",
       "      <td>-7.808753</td>\n",
       "      <td>110.163284</td>\n",
       "      <td>-7.383665</td>\n",
       "      <td>62.171558</td>\n",
       "      <td>3.502195</td>\n",
       "      <td>36.986839</td>\n",
       "      <td>-0.897003</td>\n",
       "      <td>71.889236</td>\n",
       "      <td>-12.450265</td>\n",
       "      <td>135.036133</td>\n",
       "    </tr>\n",
       "    <tr>\n",
       "      <th>3</th>\n",
       "      <td>/Users/dohee/Documents/ds_study/data/new_music...</td>\n",
       "      <td>Blues Delight_3</td>\n",
       "      <td>Blues Delight</td>\n",
       "      <td>0.248301</td>\n",
       "      <td>0.149612</td>\n",
       "      <td>1353.086107</td>\n",
       "      <td>1689.924161</td>\n",
       "      <td>2944.251427</td>\n",
       "      <td>0.063961</td>\n",
       "      <td>0.085140</td>\n",
       "      <td>...</td>\n",
       "      <td>-7.778403</td>\n",
       "      <td>89.646988</td>\n",
       "      <td>-9.363816</td>\n",
       "      <td>48.951950</td>\n",
       "      <td>-2.115722</td>\n",
       "      <td>45.443466</td>\n",
       "      <td>-0.442227</td>\n",
       "      <td>141.548904</td>\n",
       "      <td>-5.530121</td>\n",
       "      <td>39.560074</td>\n",
       "    </tr>\n",
       "    <tr>\n",
       "      <th>4</th>\n",
       "      <td>/Users/dohee/Documents/ds_study/data/new_music...</td>\n",
       "      <td>Blues Delight_4</td>\n",
       "      <td>Blues Delight</td>\n",
       "      <td>0.367475</td>\n",
       "      <td>0.129199</td>\n",
       "      <td>1131.458589</td>\n",
       "      <td>1660.182795</td>\n",
       "      <td>2484.848821</td>\n",
       "      <td>0.038375</td>\n",
       "      <td>0.097223</td>\n",
       "      <td>...</td>\n",
       "      <td>-1.246215</td>\n",
       "      <td>79.784752</td>\n",
       "      <td>-2.466945</td>\n",
       "      <td>47.262810</td>\n",
       "      <td>7.330590</td>\n",
       "      <td>28.534254</td>\n",
       "      <td>-3.282345</td>\n",
       "      <td>65.088509</td>\n",
       "      <td>-7.965847</td>\n",
       "      <td>45.403778</td>\n",
       "    </tr>\n",
       "    <tr>\n",
       "      <th>...</th>\n",
       "      <td>...</td>\n",
       "      <td>...</td>\n",
       "      <td>...</td>\n",
       "      <td>...</td>\n",
       "      <td>...</td>\n",
       "      <td>...</td>\n",
       "      <td>...</td>\n",
       "      <td>...</td>\n",
       "      <td>...</td>\n",
       "      <td>...</td>\n",
       "      <td>...</td>\n",
       "      <td>...</td>\n",
       "      <td>...</td>\n",
       "      <td>...</td>\n",
       "      <td>...</td>\n",
       "      <td>...</td>\n",
       "      <td>...</td>\n",
       "      <td>...</td>\n",
       "      <td>...</td>\n",
       "      <td>...</td>\n",
       "      <td>...</td>\n",
       "    </tr>\n",
       "    <tr>\n",
       "      <th>89</th>\n",
       "      <td>/Users/dohee/Documents/ds_study/data/new_music...</td>\n",
       "      <td>Blues Delight_89</td>\n",
       "      <td>Blues Delight</td>\n",
       "      <td>0.282456</td>\n",
       "      <td>0.241650</td>\n",
       "      <td>1569.990389</td>\n",
       "      <td>1924.065394</td>\n",
       "      <td>3241.326810</td>\n",
       "      <td>0.073197</td>\n",
       "      <td>0.087429</td>\n",
       "      <td>...</td>\n",
       "      <td>6.720956</td>\n",
       "      <td>67.438774</td>\n",
       "      <td>-9.666785</td>\n",
       "      <td>54.943398</td>\n",
       "      <td>-4.670082</td>\n",
       "      <td>42.265549</td>\n",
       "      <td>-9.953042</td>\n",
       "      <td>39.092659</td>\n",
       "      <td>-2.869141</td>\n",
       "      <td>51.880249</td>\n",
       "    </tr>\n",
       "    <tr>\n",
       "      <th>90</th>\n",
       "      <td>/Users/dohee/Documents/ds_study/data/new_music...</td>\n",
       "      <td>Blues Delight_90</td>\n",
       "      <td>Blues Delight</td>\n",
       "      <td>0.182035</td>\n",
       "      <td>0.288346</td>\n",
       "      <td>1606.115173</td>\n",
       "      <td>1791.919468</td>\n",
       "      <td>3170.184420</td>\n",
       "      <td>0.079346</td>\n",
       "      <td>0.081725</td>\n",
       "      <td>...</td>\n",
       "      <td>1.758985</td>\n",
       "      <td>77.727722</td>\n",
       "      <td>-14.716546</td>\n",
       "      <td>96.617516</td>\n",
       "      <td>-6.563856</td>\n",
       "      <td>104.654114</td>\n",
       "      <td>0.410711</td>\n",
       "      <td>107.983658</td>\n",
       "      <td>-15.682467</td>\n",
       "      <td>124.168213</td>\n",
       "    </tr>\n",
       "    <tr>\n",
       "      <th>91</th>\n",
       "      <td>/Users/dohee/Documents/ds_study/data/new_music...</td>\n",
       "      <td>Blues Delight_91</td>\n",
       "      <td>Blues Delight</td>\n",
       "      <td>0.189065</td>\n",
       "      <td>0.199503</td>\n",
       "      <td>1718.301376</td>\n",
       "      <td>2113.363500</td>\n",
       "      <td>3841.357797</td>\n",
       "      <td>0.058789</td>\n",
       "      <td>0.081221</td>\n",
       "      <td>...</td>\n",
       "      <td>3.570305</td>\n",
       "      <td>102.237640</td>\n",
       "      <td>-7.464736</td>\n",
       "      <td>73.201759</td>\n",
       "      <td>-2.023646</td>\n",
       "      <td>56.241161</td>\n",
       "      <td>-13.872012</td>\n",
       "      <td>65.395386</td>\n",
       "      <td>-7.608946</td>\n",
       "      <td>107.314766</td>\n",
       "    </tr>\n",
       "    <tr>\n",
       "      <th>92</th>\n",
       "      <td>/Users/dohee/Documents/ds_study/data/new_music...</td>\n",
       "      <td>Blues Delight_92</td>\n",
       "      <td>Blues Delight</td>\n",
       "      <td>0.230143</td>\n",
       "      <td>0.049497</td>\n",
       "      <td>1389.982719</td>\n",
       "      <td>1913.488128</td>\n",
       "      <td>3282.488356</td>\n",
       "      <td>0.033733</td>\n",
       "      <td>0.082304</td>\n",
       "      <td>...</td>\n",
       "      <td>-4.699806</td>\n",
       "      <td>38.850975</td>\n",
       "      <td>0.263843</td>\n",
       "      <td>30.561903</td>\n",
       "      <td>-0.085369</td>\n",
       "      <td>31.837820</td>\n",
       "      <td>-15.287754</td>\n",
       "      <td>39.952831</td>\n",
       "      <td>-13.162072</td>\n",
       "      <td>56.016022</td>\n",
       "    </tr>\n",
       "    <tr>\n",
       "      <th>93</th>\n",
       "      <td>/Users/dohee/Documents/ds_study/data/new_music...</td>\n",
       "      <td>Blues Delight_93</td>\n",
       "      <td>Blues Delight</td>\n",
       "      <td>0.253795</td>\n",
       "      <td>0.015237</td>\n",
       "      <td>683.982124</td>\n",
       "      <td>1132.811120</td>\n",
       "      <td>1629.235276</td>\n",
       "      <td>0.028099</td>\n",
       "      <td>0.077974</td>\n",
       "      <td>...</td>\n",
       "      <td>-3.108316</td>\n",
       "      <td>26.892923</td>\n",
       "      <td>-3.248077</td>\n",
       "      <td>20.413704</td>\n",
       "      <td>0.707518</td>\n",
       "      <td>21.818346</td>\n",
       "      <td>-3.976128</td>\n",
       "      <td>28.465235</td>\n",
       "      <td>-14.028046</td>\n",
       "      <td>17.431734</td>\n",
       "    </tr>\n",
       "  </tbody>\n",
       "</table>\n",
       "<p>94 rows × 59 columns</p>\n",
       "</div>"
      ],
      "text/plain": [
       "                                                 path             split  \\\n",
       "0   /Users/dohee/Documents/ds_study/data/new_music...   Blues Delight_0   \n",
       "1   /Users/dohee/Documents/ds_study/data/new_music...   Blues Delight_1   \n",
       "2   /Users/dohee/Documents/ds_study/data/new_music...   Blues Delight_2   \n",
       "3   /Users/dohee/Documents/ds_study/data/new_music...   Blues Delight_3   \n",
       "4   /Users/dohee/Documents/ds_study/data/new_music...   Blues Delight_4   \n",
       "..                                                ...               ...   \n",
       "89  /Users/dohee/Documents/ds_study/data/new_music...  Blues Delight_89   \n",
       "90  /Users/dohee/Documents/ds_study/data/new_music...  Blues Delight_90   \n",
       "91  /Users/dohee/Documents/ds_study/data/new_music...  Blues Delight_91   \n",
       "92  /Users/dohee/Documents/ds_study/data/new_music...  Blues Delight_92   \n",
       "93  /Users/dohee/Documents/ds_study/data/new_music...  Blues Delight_93   \n",
       "\n",
       "         filename  chroma_stft_mean  rms_mean  spectral_centroid_mean  \\\n",
       "0   Blues Delight          0.192086  0.154849             1588.408357   \n",
       "1   Blues Delight          0.331300  0.123402             1133.394110   \n",
       "2   Blues Delight          0.269830  0.170665             1461.839001   \n",
       "3   Blues Delight          0.248301  0.149612             1353.086107   \n",
       "4   Blues Delight          0.367475  0.129199             1131.458589   \n",
       "..            ...               ...       ...                     ...   \n",
       "89  Blues Delight          0.282456  0.241650             1569.990389   \n",
       "90  Blues Delight          0.182035  0.288346             1606.115173   \n",
       "91  Blues Delight          0.189065  0.199503             1718.301376   \n",
       "92  Blues Delight          0.230143  0.049497             1389.982719   \n",
       "93  Blues Delight          0.253795  0.015237              683.982124   \n",
       "\n",
       "    spectral_bandwidth_mean  rolloff_mean  zero_crossing_rate_mean  \\\n",
       "0               1514.770369   3027.651179                 0.089457   \n",
       "1               1715.548195   2516.071965                 0.034431   \n",
       "2               1786.556183   3093.824369                 0.060243   \n",
       "3               1689.924161   2944.251427                 0.063961   \n",
       "4               1660.182795   2484.848821                 0.038375   \n",
       "..                      ...           ...                      ...   \n",
       "89              1924.065394   3241.326810                 0.073197   \n",
       "90              1791.919468   3170.184420                 0.079346   \n",
       "91              2113.363500   3841.357797                 0.058789   \n",
       "92              1913.488128   3282.488356                 0.033733   \n",
       "93              1132.811120   1629.235276                 0.028099   \n",
       "\n",
       "    chroma_stft_var  ...  mfcc16_mean  mfcc16_var  mfcc17_mean  mfcc17_var  \\\n",
       "0          0.090936  ...    12.205647  206.839340    10.262403  190.625473   \n",
       "1          0.097086  ...     2.243439   70.534355    -0.422086   42.380650   \n",
       "2          0.098290  ...    -7.808753  110.163284    -7.383665   62.171558   \n",
       "3          0.085140  ...    -7.778403   89.646988    -9.363816   48.951950   \n",
       "4          0.097223  ...    -1.246215   79.784752    -2.466945   47.262810   \n",
       "..              ...  ...          ...         ...          ...         ...   \n",
       "89         0.087429  ...     6.720956   67.438774    -9.666785   54.943398   \n",
       "90         0.081725  ...     1.758985   77.727722   -14.716546   96.617516   \n",
       "91         0.081221  ...     3.570305  102.237640    -7.464736   73.201759   \n",
       "92         0.082304  ...    -4.699806   38.850975     0.263843   30.561903   \n",
       "93         0.077974  ...    -3.108316   26.892923    -3.248077   20.413704   \n",
       "\n",
       "    mfcc18_mean  mfcc18_var  mfcc19_mean  mfcc19_var  mfcc20_mean  mfcc20_var  \n",
       "0      5.901454  187.873505    -1.242228  188.021591   -10.936927  171.740692  \n",
       "1      4.531170   30.320847    -4.700673   56.282185   -10.486878   48.959728  \n",
       "2      3.502195   36.986839    -0.897003   71.889236   -12.450265  135.036133  \n",
       "3     -2.115722   45.443466    -0.442227  141.548904    -5.530121   39.560074  \n",
       "4      7.330590   28.534254    -3.282345   65.088509    -7.965847   45.403778  \n",
       "..          ...         ...          ...         ...          ...         ...  \n",
       "89    -4.670082   42.265549    -9.953042   39.092659    -2.869141   51.880249  \n",
       "90    -6.563856  104.654114     0.410711  107.983658   -15.682467  124.168213  \n",
       "91    -2.023646   56.241161   -13.872012   65.395386    -7.608946  107.314766  \n",
       "92    -0.085369   31.837820   -15.287754   39.952831   -13.162072   56.016022  \n",
       "93     0.707518   21.818346    -3.976128   28.465235   -14.028046   17.431734  \n",
       "\n",
       "[94 rows x 59 columns]"
      ]
     },
     "execution_count": 4,
     "metadata": {},
     "output_type": "execute_result"
    }
   ],
   "source": [
    "new_data"
   ]
  },
  {
   "cell_type": "code",
   "execution_count": 7,
   "metadata": {},
   "outputs": [],
   "source": [
    "new_data.to_csv(\"/Users/dohee/Documents/ds_study/data/new_music_csv/Blues_Delight_3s.csv\",index=False)"
   ]
  },
  {
   "cell_type": "code",
   "execution_count": 8,
   "metadata": {},
   "outputs": [
    {
     "data": {
      "text/html": [
       "<div>\n",
       "<style scoped>\n",
       "    .dataframe tbody tr th:only-of-type {\n",
       "        vertical-align: middle;\n",
       "    }\n",
       "\n",
       "    .dataframe tbody tr th {\n",
       "        vertical-align: top;\n",
       "    }\n",
       "\n",
       "    .dataframe thead th {\n",
       "        text-align: right;\n",
       "    }\n",
       "</style>\n",
       "<table border=\"1\" class=\"dataframe\">\n",
       "  <thead>\n",
       "    <tr style=\"text-align: right;\">\n",
       "      <th></th>\n",
       "      <th>path</th>\n",
       "      <th>split</th>\n",
       "      <th>filename</th>\n",
       "      <th>chroma_stft_mean</th>\n",
       "      <th>rms_mean</th>\n",
       "      <th>spectral_centroid_mean</th>\n",
       "      <th>spectral_bandwidth_mean</th>\n",
       "      <th>rolloff_mean</th>\n",
       "      <th>zero_crossing_rate_mean</th>\n",
       "      <th>chroma_stft_var</th>\n",
       "      <th>...</th>\n",
       "      <th>mfcc16_mean</th>\n",
       "      <th>mfcc16_var</th>\n",
       "      <th>mfcc17_mean</th>\n",
       "      <th>mfcc17_var</th>\n",
       "      <th>mfcc18_mean</th>\n",
       "      <th>mfcc18_var</th>\n",
       "      <th>mfcc19_mean</th>\n",
       "      <th>mfcc19_var</th>\n",
       "      <th>mfcc20_mean</th>\n",
       "      <th>mfcc20_var</th>\n",
       "    </tr>\n",
       "  </thead>\n",
       "  <tbody>\n",
       "    <tr>\n",
       "      <th>0</th>\n",
       "      <td>/Users/dohee/Documents/ds_study/data/new_music...</td>\n",
       "      <td>Blues Delight_0</td>\n",
       "      <td>Blues Delight</td>\n",
       "      <td>0.192086</td>\n",
       "      <td>0.154849</td>\n",
       "      <td>1588.408357</td>\n",
       "      <td>1514.770369</td>\n",
       "      <td>3027.651179</td>\n",
       "      <td>0.089457</td>\n",
       "      <td>0.090936</td>\n",
       "      <td>...</td>\n",
       "      <td>12.205647</td>\n",
       "      <td>206.839340</td>\n",
       "      <td>10.262403</td>\n",
       "      <td>190.62547</td>\n",
       "      <td>5.901454</td>\n",
       "      <td>187.873500</td>\n",
       "      <td>-1.242228</td>\n",
       "      <td>188.021590</td>\n",
       "      <td>-10.936927</td>\n",
       "      <td>171.740690</td>\n",
       "    </tr>\n",
       "    <tr>\n",
       "      <th>1</th>\n",
       "      <td>/Users/dohee/Documents/ds_study/data/new_music...</td>\n",
       "      <td>Blues Delight_1</td>\n",
       "      <td>Blues Delight</td>\n",
       "      <td>0.331300</td>\n",
       "      <td>0.123402</td>\n",
       "      <td>1133.394110</td>\n",
       "      <td>1715.548195</td>\n",
       "      <td>2516.071965</td>\n",
       "      <td>0.034431</td>\n",
       "      <td>0.097086</td>\n",
       "      <td>...</td>\n",
       "      <td>2.243439</td>\n",
       "      <td>70.534355</td>\n",
       "      <td>-0.422086</td>\n",
       "      <td>42.38065</td>\n",
       "      <td>4.531170</td>\n",
       "      <td>30.320847</td>\n",
       "      <td>-4.700673</td>\n",
       "      <td>56.282185</td>\n",
       "      <td>-10.486878</td>\n",
       "      <td>48.959730</td>\n",
       "    </tr>\n",
       "    <tr>\n",
       "      <th>2</th>\n",
       "      <td>/Users/dohee/Documents/ds_study/data/new_music...</td>\n",
       "      <td>Blues Delight_2</td>\n",
       "      <td>Blues Delight</td>\n",
       "      <td>0.269830</td>\n",
       "      <td>0.170665</td>\n",
       "      <td>1461.839001</td>\n",
       "      <td>1786.556183</td>\n",
       "      <td>3093.824369</td>\n",
       "      <td>0.060243</td>\n",
       "      <td>0.098290</td>\n",
       "      <td>...</td>\n",
       "      <td>-7.808752</td>\n",
       "      <td>110.163284</td>\n",
       "      <td>-7.383665</td>\n",
       "      <td>62.17156</td>\n",
       "      <td>3.502195</td>\n",
       "      <td>36.986840</td>\n",
       "      <td>-0.897003</td>\n",
       "      <td>71.889240</td>\n",
       "      <td>-12.450265</td>\n",
       "      <td>135.036130</td>\n",
       "    </tr>\n",
       "    <tr>\n",
       "      <th>3</th>\n",
       "      <td>/Users/dohee/Documents/ds_study/data/new_music...</td>\n",
       "      <td>Blues Delight_3</td>\n",
       "      <td>Blues Delight</td>\n",
       "      <td>0.248301</td>\n",
       "      <td>0.149612</td>\n",
       "      <td>1353.086107</td>\n",
       "      <td>1689.924161</td>\n",
       "      <td>2944.251427</td>\n",
       "      <td>0.063961</td>\n",
       "      <td>0.085140</td>\n",
       "      <td>...</td>\n",
       "      <td>-7.778403</td>\n",
       "      <td>89.646990</td>\n",
       "      <td>-9.363816</td>\n",
       "      <td>48.95195</td>\n",
       "      <td>-2.115722</td>\n",
       "      <td>45.443466</td>\n",
       "      <td>-0.442227</td>\n",
       "      <td>141.548900</td>\n",
       "      <td>-5.530121</td>\n",
       "      <td>39.560074</td>\n",
       "    </tr>\n",
       "    <tr>\n",
       "      <th>4</th>\n",
       "      <td>/Users/dohee/Documents/ds_study/data/new_music...</td>\n",
       "      <td>Blues Delight_4</td>\n",
       "      <td>Blues Delight</td>\n",
       "      <td>0.367475</td>\n",
       "      <td>0.129199</td>\n",
       "      <td>1131.458589</td>\n",
       "      <td>1660.182795</td>\n",
       "      <td>2484.848821</td>\n",
       "      <td>0.038375</td>\n",
       "      <td>0.097223</td>\n",
       "      <td>...</td>\n",
       "      <td>-1.246215</td>\n",
       "      <td>79.784750</td>\n",
       "      <td>-2.466945</td>\n",
       "      <td>47.26281</td>\n",
       "      <td>7.330590</td>\n",
       "      <td>28.534254</td>\n",
       "      <td>-3.282345</td>\n",
       "      <td>65.088510</td>\n",
       "      <td>-7.965847</td>\n",
       "      <td>45.403778</td>\n",
       "    </tr>\n",
       "  </tbody>\n",
       "</table>\n",
       "<p>5 rows × 59 columns</p>\n",
       "</div>"
      ],
      "text/plain": [
       "                                                path            split  \\\n",
       "0  /Users/dohee/Documents/ds_study/data/new_music...  Blues Delight_0   \n",
       "1  /Users/dohee/Documents/ds_study/data/new_music...  Blues Delight_1   \n",
       "2  /Users/dohee/Documents/ds_study/data/new_music...  Blues Delight_2   \n",
       "3  /Users/dohee/Documents/ds_study/data/new_music...  Blues Delight_3   \n",
       "4  /Users/dohee/Documents/ds_study/data/new_music...  Blues Delight_4   \n",
       "\n",
       "        filename  chroma_stft_mean  rms_mean  spectral_centroid_mean  \\\n",
       "0  Blues Delight          0.192086  0.154849             1588.408357   \n",
       "1  Blues Delight          0.331300  0.123402             1133.394110   \n",
       "2  Blues Delight          0.269830  0.170665             1461.839001   \n",
       "3  Blues Delight          0.248301  0.149612             1353.086107   \n",
       "4  Blues Delight          0.367475  0.129199             1131.458589   \n",
       "\n",
       "   spectral_bandwidth_mean  rolloff_mean  zero_crossing_rate_mean  \\\n",
       "0              1514.770369   3027.651179                 0.089457   \n",
       "1              1715.548195   2516.071965                 0.034431   \n",
       "2              1786.556183   3093.824369                 0.060243   \n",
       "3              1689.924161   2944.251427                 0.063961   \n",
       "4              1660.182795   2484.848821                 0.038375   \n",
       "\n",
       "   chroma_stft_var  ...  mfcc16_mean  mfcc16_var  mfcc17_mean  mfcc17_var  \\\n",
       "0         0.090936  ...    12.205647  206.839340    10.262403   190.62547   \n",
       "1         0.097086  ...     2.243439   70.534355    -0.422086    42.38065   \n",
       "2         0.098290  ...    -7.808752  110.163284    -7.383665    62.17156   \n",
       "3         0.085140  ...    -7.778403   89.646990    -9.363816    48.95195   \n",
       "4         0.097223  ...    -1.246215   79.784750    -2.466945    47.26281   \n",
       "\n",
       "   mfcc18_mean  mfcc18_var  mfcc19_mean  mfcc19_var  mfcc20_mean  mfcc20_var  \n",
       "0     5.901454  187.873500    -1.242228  188.021590   -10.936927  171.740690  \n",
       "1     4.531170   30.320847    -4.700673   56.282185   -10.486878   48.959730  \n",
       "2     3.502195   36.986840    -0.897003   71.889240   -12.450265  135.036130  \n",
       "3    -2.115722   45.443466    -0.442227  141.548900    -5.530121   39.560074  \n",
       "4     7.330590   28.534254    -3.282345   65.088510    -7.965847   45.403778  \n",
       "\n",
       "[5 rows x 59 columns]"
      ]
     },
     "execution_count": 8,
     "metadata": {},
     "output_type": "execute_result"
    }
   ],
   "source": [
    "df = pd.read_csv(\"/Users/dohee/Documents/ds_study/data/new_music_csv/Blues_Delight_3s.csv\")\n",
    "df.head()"
   ]
  },
  {
   "attachments": {},
   "cell_type": "markdown",
   "metadata": {},
   "source": [
    "Jessy Martens - That's Why I'm Crying"
   ]
  },
  {
   "cell_type": "code",
   "execution_count": 9,
   "metadata": {},
   "outputs": [
    {
     "name": "stderr",
     "output_type": "stream",
     "text": [
      "/var/folders/l4/c_yyc4653dzbw_s9qxhd31000000gn/T/ipykernel_90417/119974429.py:6: DeprecationWarning: Call to deprecated function all (This object can be treated as a list, all() is useless).\n",
      "  print(yt.streams.filter(only_audio=True).all())\n"
     ]
    },
    {
     "name": "stdout",
     "output_type": "stream",
     "text": [
      "[<Stream: itag=\"139\" mime_type=\"audio/mp4\" abr=\"48kbps\" acodec=\"mp4a.40.5\" progressive=\"False\" type=\"audio\">, <Stream: itag=\"140\" mime_type=\"audio/mp4\" abr=\"128kbps\" acodec=\"mp4a.40.2\" progressive=\"False\" type=\"audio\">, <Stream: itag=\"249\" mime_type=\"audio/webm\" abr=\"50kbps\" acodec=\"opus\" progressive=\"False\" type=\"audio\">, <Stream: itag=\"250\" mime_type=\"audio/webm\" abr=\"70kbps\" acodec=\"opus\" progressive=\"False\" type=\"audio\">, <Stream: itag=\"251\" mime_type=\"audio/webm\" abr=\"160kbps\" acodec=\"opus\" progressive=\"False\" type=\"audio\">]\n",
      "success\n"
     ]
    }
   ],
   "source": [
    "from pytube import YouTube\n",
    "\n",
    "#유튜브 전용 인스턴스 생성\n",
    "yt = YouTube('https://youtu.be/AEVpo3swsBg')\n",
    "\n",
    "print(yt.streams.filter(only_audio=True).all())\n",
    "\n",
    "# 특정영상 다운로드\n",
    "yt.streams.filter(only_audio=True,).first().download(output_path=\"/Users/dohee/Documents/ds_study/data/new_musics/\")\n",
    "\n",
    "print('success')"
   ]
  },
  {
   "cell_type": "code",
   "execution_count": 10,
   "metadata": {},
   "outputs": [],
   "source": [
    "#확장자 변경 to wav\n",
    "import glob\n",
    "import os.path\n",
    "import librosa\n",
    "\n",
    "files = glob.glob(\"/Users/dohee/Documents/ds_study/data/new_musics/Jessy Martens - Thats Why Im Crying.mp4\")\n",
    "for x in files:\n",
    "\tif not os.path.isdir(x):\n",
    "\t\tfilename = os.path.splitext(x)\n",
    "\t\ttry:\n",
    "\t\t\tos.rename(x,filename[0] + '.wav')\n",
    "\t\texcept:\n",
    "\t\t\tpass"
   ]
  },
  {
   "cell_type": "code",
   "execution_count": 12,
   "metadata": {},
   "outputs": [
    {
     "name": "stderr",
     "output_type": "stream",
     "text": [
      "/Users/dohee/Documents/ds_study/ML_project1/codes/genre_transition.py:70: UserWarning: PySoundFile failed. Trying audioread instead.\n",
      "  y, sr = librosa.load(file_path)\n",
      "/Users/dohee/Documents/ds_study/ML_project1/codes/genre_transition.py:75: UserWarning: PySoundFile failed. Trying audioread instead.\n",
      "  new_y, new_sr = librosa.load(file_path,offset=start, duration=n)\n"
     ]
    }
   ],
   "source": [
    "import genre_transition as gt\n",
    "path = \"/Users/dohee/Documents/ds_study/data/new_musics/Jessy Martens - Thats Why Im Crying.wav\"\n",
    "new_data1 = gt.feature_extraction(file_path=path, file_name='Jessy Martens', n=3)\n",
    "new_data2 = gt.mfcc_extraction(file_path=path, file_name='Jessy Martens', mfcc_n=20,n=3)\n",
    "\n",
    "new_data1 = pd.DataFrame(new_data1)\n",
    "new_data2 = pd.DataFrame(new_data2)\n",
    "\n",
    "new_data = pd.merge(new_data1, new_data2)"
   ]
  },
  {
   "cell_type": "code",
   "execution_count": 13,
   "metadata": {},
   "outputs": [],
   "source": [
    "new_data.to_csv(\"/Users/dohee/Documents/ds_study/data/new_music_csv/Jessy Martens_3s.csv\",index=False)"
   ]
  },
  {
   "attachments": {},
   "cell_type": "markdown",
   "metadata": {},
   "source": [
    "The Buddaheads - Mountain Of Blues"
   ]
  },
  {
   "cell_type": "code",
   "execution_count": 14,
   "metadata": {},
   "outputs": [
    {
     "name": "stderr",
     "output_type": "stream",
     "text": [
      "/var/folders/l4/c_yyc4653dzbw_s9qxhd31000000gn/T/ipykernel_90417/3915603300.py:6: DeprecationWarning: Call to deprecated function all (This object can be treated as a list, all() is useless).\n",
      "  print(yt.streams.filter(only_audio=True).all())\n"
     ]
    },
    {
     "name": "stdout",
     "output_type": "stream",
     "text": [
      "[<Stream: itag=\"139\" mime_type=\"audio/mp4\" abr=\"48kbps\" acodec=\"mp4a.40.5\" progressive=\"False\" type=\"audio\">, <Stream: itag=\"140\" mime_type=\"audio/mp4\" abr=\"128kbps\" acodec=\"mp4a.40.2\" progressive=\"False\" type=\"audio\">, <Stream: itag=\"249\" mime_type=\"audio/webm\" abr=\"50kbps\" acodec=\"opus\" progressive=\"False\" type=\"audio\">, <Stream: itag=\"250\" mime_type=\"audio/webm\" abr=\"70kbps\" acodec=\"opus\" progressive=\"False\" type=\"audio\">, <Stream: itag=\"251\" mime_type=\"audio/webm\" abr=\"160kbps\" acodec=\"opus\" progressive=\"False\" type=\"audio\">]\n",
      "success\n"
     ]
    }
   ],
   "source": [
    "from pytube import YouTube\n",
    "\n",
    "#유튜브 전용 인스턴스 생성\n",
    "yt = YouTube('https://youtu.be/lQ0IYzSrKfQ')\n",
    "\n",
    "print(yt.streams.filter(only_audio=True).all())\n",
    "\n",
    "# 특정영상 다운로드\n",
    "yt.streams.filter(only_audio=True,).first().download(output_path=\"/Users/dohee/Documents/ds_study/data/new_musics/\")\n",
    "\n",
    "print('success')"
   ]
  },
  {
   "cell_type": "code",
   "execution_count": 15,
   "metadata": {},
   "outputs": [],
   "source": [
    "#확장자 변경 to wav\n",
    "import glob\n",
    "import os.path\n",
    "import librosa\n",
    "\n",
    "files = glob.glob(\"/Users/dohee/Documents/ds_study/data/new_musics/The Buddaheads - Mountain Of Blues.mp4\")\n",
    "for x in files:\n",
    "\tif not os.path.isdir(x):\n",
    "\t\tfilename = os.path.splitext(x)\n",
    "\t\ttry:\n",
    "\t\t\tos.rename(x,filename[0] + '.wav')\n",
    "\t\texcept:\n",
    "\t\t\tpass"
   ]
  },
  {
   "cell_type": "code",
   "execution_count": 16,
   "metadata": {},
   "outputs": [
    {
     "name": "stderr",
     "output_type": "stream",
     "text": [
      "/Users/dohee/Documents/ds_study/ML_project1/codes/genre_transition.py:7: UserWarning: PySoundFile failed. Trying audioread instead.\n",
      "  y, sr = librosa.load(file_path)\n",
      "/Users/dohee/miniforge3/envs/ds_study/lib/python3.8/site-packages/librosa/core/audio.py:184: FutureWarning: librosa.core.audio.__audioread_load\n",
      "\tDeprecated as of librosa version 0.10.0.\n",
      "\tIt will be removed in librosa version 1.0.\n",
      "  y, sr_native = __audioread_load(path, offset, duration, dtype)\n",
      "/Users/dohee/Documents/ds_study/ML_project1/codes/genre_transition.py:12: UserWarning: PySoundFile failed. Trying audioread instead.\n",
      "  new_y, new_sr = librosa.load(file_path,offset=start,duration=n)\n",
      "/Users/dohee/Documents/ds_study/ML_project1/codes/genre_transition.py:70: UserWarning: PySoundFile failed. Trying audioread instead.\n",
      "  y, sr = librosa.load(file_path)\n",
      "/Users/dohee/Documents/ds_study/ML_project1/codes/genre_transition.py:75: UserWarning: PySoundFile failed. Trying audioread instead.\n",
      "  new_y, new_sr = librosa.load(file_path,offset=start, duration=n)\n"
     ]
    }
   ],
   "source": [
    "import genre_transition as gt\n",
    "path = \"/Users/dohee/Documents/ds_study/data/new_musics/The Buddaheads - Mountain Of Blues.wav\"\n",
    "new_data1 = gt.feature_extraction(file_path=path, file_name='The Buddaheads', n=3)\n",
    "new_data2 = gt.mfcc_extraction(file_path=path, file_name='The Buddaheads', mfcc_n=20,n=3)\n",
    "\n",
    "new_data1 = pd.DataFrame(new_data1)\n",
    "new_data2 = pd.DataFrame(new_data2)\n",
    "\n",
    "new_data = pd.merge(new_data1, new_data2)"
   ]
  },
  {
   "cell_type": "code",
   "execution_count": 17,
   "metadata": {},
   "outputs": [],
   "source": [
    "new_data.to_csv(\"/Users/dohee/Documents/ds_study/data/new_music_csv/The Buddaheads_3s.csv\",index=False)"
   ]
  },
  {
   "attachments": {},
   "cell_type": "markdown",
   "metadata": {},
   "source": [
    "Twelve Bar Blues Band - Old Love"
   ]
  },
  {
   "cell_type": "code",
   "execution_count": 18,
   "metadata": {},
   "outputs": [
    {
     "name": "stderr",
     "output_type": "stream",
     "text": [
      "/var/folders/l4/c_yyc4653dzbw_s9qxhd31000000gn/T/ipykernel_90417/1878302743.py:6: DeprecationWarning: Call to deprecated function all (This object can be treated as a list, all() is useless).\n",
      "  print(yt.streams.filter(only_audio=True).all())\n"
     ]
    },
    {
     "name": "stdout",
     "output_type": "stream",
     "text": [
      "[<Stream: itag=\"139\" mime_type=\"audio/mp4\" abr=\"48kbps\" acodec=\"mp4a.40.5\" progressive=\"False\" type=\"audio\">, <Stream: itag=\"140\" mime_type=\"audio/mp4\" abr=\"128kbps\" acodec=\"mp4a.40.2\" progressive=\"False\" type=\"audio\">, <Stream: itag=\"251\" mime_type=\"audio/webm\" abr=\"160kbps\" acodec=\"opus\" progressive=\"False\" type=\"audio\">]\n",
      "success\n"
     ]
    }
   ],
   "source": [
    "from pytube import YouTube\n",
    "\n",
    "#유튜브 전용 인스턴스 생성\n",
    "yt = YouTube('https://youtu.be/ra8dlimnRgs')\n",
    "\n",
    "print(yt.streams.filter(only_audio=True).all())\n",
    "\n",
    "# 특정영상 다운로드\n",
    "yt.streams.filter(only_audio=True,).first().download(output_path=\"/Users/dohee/Documents/ds_study/data/new_musics/\")\n",
    "\n",
    "print('success')"
   ]
  },
  {
   "cell_type": "code",
   "execution_count": 19,
   "metadata": {},
   "outputs": [],
   "source": [
    "#확장자 변경 to wav\n",
    "import glob\n",
    "import os.path\n",
    "import librosa\n",
    "\n",
    "files = glob.glob(\"/Users/dohee/Documents/ds_study/data/new_musics/Twelve Bar Blues Band - Old Love.mp4\")\n",
    "for x in files:\n",
    "\tif not os.path.isdir(x):\n",
    "\t\tfilename = os.path.splitext(x)\n",
    "\t\ttry:\n",
    "\t\t\tos.rename(x,filename[0] + '.wav')\n",
    "\t\texcept:\n",
    "\t\t\tpass"
   ]
  },
  {
   "cell_type": "code",
   "execution_count": 20,
   "metadata": {},
   "outputs": [
    {
     "name": "stderr",
     "output_type": "stream",
     "text": [
      "/Users/dohee/Documents/ds_study/ML_project1/codes/genre_transition.py:7: UserWarning: PySoundFile failed. Trying audioread instead.\n",
      "  y, sr = librosa.load(file_path)\n",
      "/Users/dohee/miniforge3/envs/ds_study/lib/python3.8/site-packages/librosa/core/audio.py:184: FutureWarning: librosa.core.audio.__audioread_load\n",
      "\tDeprecated as of librosa version 0.10.0.\n",
      "\tIt will be removed in librosa version 1.0.\n",
      "  y, sr_native = __audioread_load(path, offset, duration, dtype)\n",
      "/Users/dohee/Documents/ds_study/ML_project1/codes/genre_transition.py:12: UserWarning: PySoundFile failed. Trying audioread instead.\n",
      "  new_y, new_sr = librosa.load(file_path,offset=start,duration=n)\n",
      "/Users/dohee/Documents/ds_study/ML_project1/codes/genre_transition.py:70: UserWarning: PySoundFile failed. Trying audioread instead.\n",
      "  y, sr = librosa.load(file_path)\n",
      "/Users/dohee/Documents/ds_study/ML_project1/codes/genre_transition.py:75: UserWarning: PySoundFile failed. Trying audioread instead.\n",
      "  new_y, new_sr = librosa.load(file_path,offset=start, duration=n)\n"
     ]
    }
   ],
   "source": [
    "import genre_transition as gt\n",
    "path = \"/Users/dohee/Documents/ds_study/data/new_musics/Twelve Bar Blues Band - Old Love.wav\"\n",
    "new_data1 = gt.feature_extraction(file_path=path, file_name='Twelve Bar Blues Band', n=3)\n",
    "new_data2 = gt.mfcc_extraction(file_path=path, file_name='Twelve Bar Blues Band', mfcc_n=20,n=3)\n",
    "\n",
    "new_data1 = pd.DataFrame(new_data1)\n",
    "new_data2 = pd.DataFrame(new_data2)\n",
    "\n",
    "new_data = pd.merge(new_data1, new_data2)"
   ]
  },
  {
   "cell_type": "code",
   "execution_count": 21,
   "metadata": {},
   "outputs": [],
   "source": [
    "new_data.to_csv(\"/Users/dohee/Documents/ds_study/data/new_music_csv/Twelve Bar Blues Band_3s.csv\",index=False)"
   ]
  },
  {
   "attachments": {},
   "cell_type": "markdown",
   "metadata": {},
   "source": [
    "Blues Delight - If I Had Money"
   ]
  },
  {
   "cell_type": "code",
   "execution_count": 22,
   "metadata": {},
   "outputs": [
    {
     "name": "stderr",
     "output_type": "stream",
     "text": [
      "/var/folders/l4/c_yyc4653dzbw_s9qxhd31000000gn/T/ipykernel_90417/695351440.py:6: DeprecationWarning: Call to deprecated function all (This object can be treated as a list, all() is useless).\n",
      "  print(yt.streams.filter(only_audio=True).all())\n"
     ]
    },
    {
     "name": "stdout",
     "output_type": "stream",
     "text": [
      "[<Stream: itag=\"139\" mime_type=\"audio/mp4\" abr=\"48kbps\" acodec=\"mp4a.40.5\" progressive=\"False\" type=\"audio\">, <Stream: itag=\"140\" mime_type=\"audio/mp4\" abr=\"128kbps\" acodec=\"mp4a.40.2\" progressive=\"False\" type=\"audio\">, <Stream: itag=\"249\" mime_type=\"audio/webm\" abr=\"50kbps\" acodec=\"opus\" progressive=\"False\" type=\"audio\">, <Stream: itag=\"250\" mime_type=\"audio/webm\" abr=\"70kbps\" acodec=\"opus\" progressive=\"False\" type=\"audio\">, <Stream: itag=\"251\" mime_type=\"audio/webm\" abr=\"160kbps\" acodec=\"opus\" progressive=\"False\" type=\"audio\">]\n",
      "success\n"
     ]
    }
   ],
   "source": [
    "from pytube import YouTube\n",
    "\n",
    "#유튜브 전용 인스턴스 생성\n",
    "yt = YouTube('https://youtu.be/bb1SrngIufQ')\n",
    "\n",
    "print(yt.streams.filter(only_audio=True).all())\n",
    "\n",
    "# 특정영상 다운로드\n",
    "yt.streams.filter(only_audio=True,).first().download(output_path=\"/Users/dohee/Documents/ds_study/data/new_musics/\")\n",
    "\n",
    "print('success')"
   ]
  },
  {
   "cell_type": "code",
   "execution_count": 23,
   "metadata": {},
   "outputs": [],
   "source": [
    "#확장자 변경 to wav\n",
    "import glob\n",
    "import os.path\n",
    "import librosa\n",
    "\n",
    "files = glob.glob(\"/Users/dohee/Documents/ds_study/data/new_musics/Blues Delight - If I Had Money.mp4\")\n",
    "for x in files:\n",
    "\tif not os.path.isdir(x):\n",
    "\t\tfilename = os.path.splitext(x)\n",
    "\t\ttry:\n",
    "\t\t\tos.rename(x,filename[0] + '.wav')\n",
    "\t\texcept:\n",
    "\t\t\tpass"
   ]
  },
  {
   "cell_type": "code",
   "execution_count": 24,
   "metadata": {},
   "outputs": [
    {
     "name": "stderr",
     "output_type": "stream",
     "text": [
      "/Users/dohee/Documents/ds_study/ML_project1/codes/genre_transition.py:7: UserWarning: PySoundFile failed. Trying audioread instead.\n",
      "  y, sr = librosa.load(file_path)\n",
      "/Users/dohee/miniforge3/envs/ds_study/lib/python3.8/site-packages/librosa/core/audio.py:184: FutureWarning: librosa.core.audio.__audioread_load\n",
      "\tDeprecated as of librosa version 0.10.0.\n",
      "\tIt will be removed in librosa version 1.0.\n",
      "  y, sr_native = __audioread_load(path, offset, duration, dtype)\n",
      "/Users/dohee/Documents/ds_study/ML_project1/codes/genre_transition.py:12: UserWarning: PySoundFile failed. Trying audioread instead.\n",
      "  new_y, new_sr = librosa.load(file_path,offset=start,duration=n)\n",
      "/Users/dohee/miniforge3/envs/ds_study/lib/python3.8/site-packages/librosa/core/pitch.py:102: UserWarning: Trying to estimate tuning from empty frequency set.\n",
      "  return pitch_tuning(\n",
      "/Users/dohee/Documents/ds_study/ML_project1/codes/genre_transition.py:70: UserWarning: PySoundFile failed. Trying audioread instead.\n",
      "  y, sr = librosa.load(file_path)\n",
      "/Users/dohee/Documents/ds_study/ML_project1/codes/genre_transition.py:75: UserWarning: PySoundFile failed. Trying audioread instead.\n",
      "  new_y, new_sr = librosa.load(file_path,offset=start, duration=n)\n"
     ]
    }
   ],
   "source": [
    "import genre_transition as gt\n",
    "path = \"/Users/dohee/Documents/ds_study/data/new_musics/Blues Delight - If I Had Money.wav\"\n",
    "new_data1 = gt.feature_extraction(file_path=path, file_name='Blues Delight2', n=3)\n",
    "new_data2 = gt.mfcc_extraction(file_path=path, file_name='Blues Delight2', mfcc_n=20,n=3)\n",
    "\n",
    "new_data1 = pd.DataFrame(new_data1)\n",
    "new_data2 = pd.DataFrame(new_data2)\n",
    "\n",
    "new_data = pd.merge(new_data1, new_data2)"
   ]
  },
  {
   "cell_type": "code",
   "execution_count": 25,
   "metadata": {},
   "outputs": [],
   "source": [
    "new_data.to_csv(\"/Users/dohee/Documents/ds_study/data/new_music_csv/Blues Delight2_3s.csv\",index=False)"
   ]
  },
  {
   "attachments": {},
   "cell_type": "markdown",
   "metadata": {},
   "source": [
    "## Classical"
   ]
  },
  {
   "attachments": {},
   "cell_type": "markdown",
   "metadata": {},
   "source": [
    "Georges Bizet - \"Les Toreadors\" from Carmen Suite No. 1"
   ]
  },
  {
   "cell_type": "code",
   "execution_count": 26,
   "metadata": {},
   "outputs": [
    {
     "name": "stdout",
     "output_type": "stream",
     "text": [
      "[<Stream: itag=\"139\" mime_type=\"audio/mp4\" abr=\"48kbps\" acodec=\"mp4a.40.5\" progressive=\"False\" type=\"audio\">, <Stream: itag=\"140\" mime_type=\"audio/mp4\" abr=\"128kbps\" acodec=\"mp4a.40.2\" progressive=\"False\" type=\"audio\">, <Stream: itag=\"249\" mime_type=\"audio/webm\" abr=\"50kbps\" acodec=\"opus\" progressive=\"False\" type=\"audio\">, <Stream: itag=\"250\" mime_type=\"audio/webm\" abr=\"70kbps\" acodec=\"opus\" progressive=\"False\" type=\"audio\">, <Stream: itag=\"251\" mime_type=\"audio/webm\" abr=\"160kbps\" acodec=\"opus\" progressive=\"False\" type=\"audio\">]\n",
      "success\n"
     ]
    },
    {
     "name": "stderr",
     "output_type": "stream",
     "text": [
      "/var/folders/l4/c_yyc4653dzbw_s9qxhd31000000gn/T/ipykernel_90417/142346924.py:6: DeprecationWarning: Call to deprecated function all (This object can be treated as a list, all() is useless).\n",
      "  print(yt.streams.filter(only_audio=True).all())\n"
     ]
    }
   ],
   "source": [
    "from pytube import YouTube\n",
    "\n",
    "#유튜브 전용 인스턴스 생성\n",
    "yt = YouTube('https://youtu.be/4DNGMoMNLRY')\n",
    "\n",
    "print(yt.streams.filter(only_audio=True).all())\n",
    "\n",
    "# 특정영상 다운로드\n",
    "yt.streams.filter(only_audio=True,).first().download(output_path=\"/Users/dohee/Documents/ds_study/data/new_musics/\")\n",
    "\n",
    "print('success')"
   ]
  },
  {
   "cell_type": "code",
   "execution_count": 27,
   "metadata": {},
   "outputs": [],
   "source": [
    "#확장자 변경 to wav\n",
    "import glob\n",
    "import os.path\n",
    "import librosa\n",
    "\n",
    "files = glob.glob(\"/Users/dohee/Documents/ds_study/data/new_musics/Georges Bizet - Les Toreadors from Carmen Suite No 1.mp4\")\n",
    "for x in files:\n",
    "\tif not os.path.isdir(x):\n",
    "\t\tfilename = os.path.splitext(x)\n",
    "\t\ttry:\n",
    "\t\t\tos.rename(x,filename[0] + '.wav')\n",
    "\t\texcept:\n",
    "\t\t\tpass"
   ]
  },
  {
   "cell_type": "code",
   "execution_count": 28,
   "metadata": {},
   "outputs": [
    {
     "name": "stderr",
     "output_type": "stream",
     "text": [
      "/Users/dohee/Documents/ds_study/ML_project1/codes/genre_transition.py:7: UserWarning: PySoundFile failed. Trying audioread instead.\n",
      "  y, sr = librosa.load(file_path)\n",
      "/Users/dohee/miniforge3/envs/ds_study/lib/python3.8/site-packages/librosa/core/audio.py:184: FutureWarning: librosa.core.audio.__audioread_load\n",
      "\tDeprecated as of librosa version 0.10.0.\n",
      "\tIt will be removed in librosa version 1.0.\n",
      "  y, sr_native = __audioread_load(path, offset, duration, dtype)\n",
      "/Users/dohee/Documents/ds_study/ML_project1/codes/genre_transition.py:12: UserWarning: PySoundFile failed. Trying audioread instead.\n",
      "  new_y, new_sr = librosa.load(file_path,offset=start,duration=n)\n",
      "/Users/dohee/miniforge3/envs/ds_study/lib/python3.8/site-packages/librosa/core/pitch.py:102: UserWarning: Trying to estimate tuning from empty frequency set.\n",
      "  return pitch_tuning(\n",
      "/Users/dohee/Documents/ds_study/ML_project1/codes/genre_transition.py:70: UserWarning: PySoundFile failed. Trying audioread instead.\n",
      "  y, sr = librosa.load(file_path)\n",
      "/Users/dohee/Documents/ds_study/ML_project1/codes/genre_transition.py:75: UserWarning: PySoundFile failed. Trying audioread instead.\n",
      "  new_y, new_sr = librosa.load(file_path,offset=start, duration=n)\n"
     ]
    }
   ],
   "source": [
    "import genre_transition as gt\n",
    "path = \"/Users/dohee/Documents/ds_study/data/new_musics/Georges Bizet - Les Toreadors from Carmen Suite No 1.wav\"\n",
    "new_data1 = gt.feature_extraction(file_path=path, file_name='Georges Bizet', n=3)\n",
    "new_data2 = gt.mfcc_extraction(file_path=path, file_name='Georges Bizet', mfcc_n=20,n=3)\n",
    "\n",
    "new_data1 = pd.DataFrame(new_data1)\n",
    "new_data2 = pd.DataFrame(new_data2)\n",
    "\n",
    "new_data = pd.merge(new_data1, new_data2)"
   ]
  },
  {
   "cell_type": "code",
   "execution_count": 29,
   "metadata": {},
   "outputs": [],
   "source": [
    "new_data.to_csv(\"/Users/dohee/Documents/ds_study/data/new_music_csv/classical/Georges Bizet_3s.csv\",index=False)"
   ]
  },
  {
   "attachments": {},
   "cell_type": "markdown",
   "metadata": {},
   "source": [
    "Vienna Philharmonic – Mendelssohn: A Midsummer Night's Dream"
   ]
  },
  {
   "cell_type": "code",
   "execution_count": 30,
   "metadata": {},
   "outputs": [
    {
     "name": "stderr",
     "output_type": "stream",
     "text": [
      "/var/folders/l4/c_yyc4653dzbw_s9qxhd31000000gn/T/ipykernel_90417/2844692128.py:6: DeprecationWarning: Call to deprecated function all (This object can be treated as a list, all() is useless).\n",
      "  print(yt.streams.filter(only_audio=True).all())\n"
     ]
    },
    {
     "name": "stdout",
     "output_type": "stream",
     "text": [
      "[<Stream: itag=\"139\" mime_type=\"audio/mp4\" abr=\"48kbps\" acodec=\"mp4a.40.5\" progressive=\"False\" type=\"audio\">, <Stream: itag=\"140\" mime_type=\"audio/mp4\" abr=\"128kbps\" acodec=\"mp4a.40.2\" progressive=\"False\" type=\"audio\">, <Stream: itag=\"249\" mime_type=\"audio/webm\" abr=\"50kbps\" acodec=\"opus\" progressive=\"False\" type=\"audio\">, <Stream: itag=\"250\" mime_type=\"audio/webm\" abr=\"70kbps\" acodec=\"opus\" progressive=\"False\" type=\"audio\">, <Stream: itag=\"251\" mime_type=\"audio/webm\" abr=\"160kbps\" acodec=\"opus\" progressive=\"False\" type=\"audio\">]\n",
      "success\n"
     ]
    }
   ],
   "source": [
    "from pytube import YouTube\n",
    "\n",
    "#유튜브 전용 인스턴스 생성\n",
    "yt = YouTube('https://youtu.be/sUm41WqTix8')\n",
    "\n",
    "print(yt.streams.filter(only_audio=True).all())\n",
    "\n",
    "# 특정영상 다운로드\n",
    "yt.streams.filter(only_audio=True,).first().download(output_path=\"/Users/dohee/Documents/ds_study/data/new_musics/\")\n",
    "\n",
    "print('success')"
   ]
  },
  {
   "cell_type": "code",
   "execution_count": 31,
   "metadata": {},
   "outputs": [],
   "source": [
    "#확장자 변경 to wav\n",
    "import glob\n",
    "import os.path\n",
    "import librosa\n",
    "\n",
    "files = glob.glob(\"/Users/dohee/Documents/ds_study/data/new_musics/Vienna Philharmonic – Mendelssohn A Midsummer Nights Dream Op 614 Scherzo (SNC 2020).mp4\")\n",
    "for x in files:\n",
    "\tif not os.path.isdir(x):\n",
    "\t\tfilename = os.path.splitext(x)\n",
    "\t\ttry:\n",
    "\t\t\tos.rename(x,filename[0] + '.wav')\n",
    "\t\texcept:\n",
    "\t\t\tpass"
   ]
  },
  {
   "cell_type": "code",
   "execution_count": 32,
   "metadata": {},
   "outputs": [
    {
     "name": "stderr",
     "output_type": "stream",
     "text": [
      "/Users/dohee/Documents/ds_study/ML_project1/codes/genre_transition.py:7: UserWarning: PySoundFile failed. Trying audioread instead.\n",
      "  y, sr = librosa.load(file_path)\n",
      "/Users/dohee/miniforge3/envs/ds_study/lib/python3.8/site-packages/librosa/core/audio.py:184: FutureWarning: librosa.core.audio.__audioread_load\n",
      "\tDeprecated as of librosa version 0.10.0.\n",
      "\tIt will be removed in librosa version 1.0.\n",
      "  y, sr_native = __audioread_load(path, offset, duration, dtype)\n",
      "/Users/dohee/Documents/ds_study/ML_project1/codes/genre_transition.py:12: UserWarning: PySoundFile failed. Trying audioread instead.\n",
      "  new_y, new_sr = librosa.load(file_path,offset=start,duration=n)\n",
      "/Users/dohee/Documents/ds_study/ML_project1/codes/genre_transition.py:70: UserWarning: PySoundFile failed. Trying audioread instead.\n",
      "  y, sr = librosa.load(file_path)\n",
      "/Users/dohee/Documents/ds_study/ML_project1/codes/genre_transition.py:75: UserWarning: PySoundFile failed. Trying audioread instead.\n",
      "  new_y, new_sr = librosa.load(file_path,offset=start, duration=n)\n"
     ]
    }
   ],
   "source": [
    "import genre_transition as gt\n",
    "path = \"/Users/dohee/Documents/ds_study/data/new_musics/Vienna Philharmonic – Mendelssohn A Midsummer Nights Dream Op 614 Scherzo (SNC 2020).wav\"\n",
    "new_data1 = gt.feature_extraction(file_path=path, file_name='Vienna Philharmonic', n=3)\n",
    "new_data2 = gt.mfcc_extraction(file_path=path, file_name='Vienna Philharmonic', mfcc_n=20,n=3)\n",
    "\n",
    "new_data1 = pd.DataFrame(new_data1)\n",
    "new_data2 = pd.DataFrame(new_data2)\n",
    "\n",
    "new_data = pd.merge(new_data1, new_data2)"
   ]
  },
  {
   "cell_type": "code",
   "execution_count": 33,
   "metadata": {},
   "outputs": [],
   "source": [
    "new_data.to_csv(\"/Users/dohee/Documents/ds_study/data/new_music_csv/classical/Vienna Philharmonic_3s.csv\",index=False)"
   ]
  },
  {
   "attachments": {},
   "cell_type": "markdown",
   "metadata": {},
   "source": [
    "Antonio Vivaldi - Summer (Full) - The Four Seasons"
   ]
  },
  {
   "cell_type": "code",
   "execution_count": 34,
   "metadata": {},
   "outputs": [
    {
     "name": "stderr",
     "output_type": "stream",
     "text": [
      "/var/folders/l4/c_yyc4653dzbw_s9qxhd31000000gn/T/ipykernel_90417/811412838.py:6: DeprecationWarning: Call to deprecated function all (This object can be treated as a list, all() is useless).\n",
      "  print(yt.streams.filter(only_audio=True).all())\n"
     ]
    },
    {
     "name": "stdout",
     "output_type": "stream",
     "text": [
      "[<Stream: itag=\"139\" mime_type=\"audio/mp4\" abr=\"48kbps\" acodec=\"mp4a.40.5\" progressive=\"False\" type=\"audio\">, <Stream: itag=\"140\" mime_type=\"audio/mp4\" abr=\"128kbps\" acodec=\"mp4a.40.2\" progressive=\"False\" type=\"audio\">, <Stream: itag=\"249\" mime_type=\"audio/webm\" abr=\"50kbps\" acodec=\"opus\" progressive=\"False\" type=\"audio\">, <Stream: itag=\"250\" mime_type=\"audio/webm\" abr=\"70kbps\" acodec=\"opus\" progressive=\"False\" type=\"audio\">, <Stream: itag=\"251\" mime_type=\"audio/webm\" abr=\"160kbps\" acodec=\"opus\" progressive=\"False\" type=\"audio\">]\n",
      "success\n"
     ]
    }
   ],
   "source": [
    "from pytube import YouTube\n",
    "\n",
    "#유튜브 전용 인스턴스 생성\n",
    "yt = YouTube('https://youtu.be/KY1p-FmjT1M')\n",
    "\n",
    "print(yt.streams.filter(only_audio=True).all())\n",
    "\n",
    "# 특정영상 다운로드\n",
    "yt.streams.filter(only_audio=True,).first().download(output_path=\"/Users/dohee/Documents/ds_study/data/new_musics/\")\n",
    "\n",
    "print('success')"
   ]
  },
  {
   "cell_type": "code",
   "execution_count": 35,
   "metadata": {},
   "outputs": [],
   "source": [
    "#확장자 변경 to wav\n",
    "import glob\n",
    "import os.path\n",
    "import librosa\n",
    "\n",
    "files = glob.glob(\"/Users/dohee/Documents/ds_study/data/new_musics/Antonio Vivaldi - Summer (Full) - The Four Seasons.mp4\")\n",
    "for x in files:\n",
    "\tif not os.path.isdir(x):\n",
    "\t\tfilename = os.path.splitext(x)\n",
    "\t\ttry:\n",
    "\t\t\tos.rename(x,filename[0] + '.wav')\n",
    "\t\texcept:\n",
    "\t\t\tpass"
   ]
  },
  {
   "cell_type": "code",
   "execution_count": 36,
   "metadata": {},
   "outputs": [
    {
     "name": "stderr",
     "output_type": "stream",
     "text": [
      "/Users/dohee/Documents/ds_study/ML_project1/codes/genre_transition.py:7: UserWarning: PySoundFile failed. Trying audioread instead.\n",
      "  y, sr = librosa.load(file_path)\n",
      "/Users/dohee/miniforge3/envs/ds_study/lib/python3.8/site-packages/librosa/core/audio.py:184: FutureWarning: librosa.core.audio.__audioread_load\n",
      "\tDeprecated as of librosa version 0.10.0.\n",
      "\tIt will be removed in librosa version 1.0.\n",
      "  y, sr_native = __audioread_load(path, offset, duration, dtype)\n",
      "/Users/dohee/Documents/ds_study/ML_project1/codes/genre_transition.py:12: UserWarning: PySoundFile failed. Trying audioread instead.\n",
      "  new_y, new_sr = librosa.load(file_path,offset=start,duration=n)\n",
      "/Users/dohee/miniforge3/envs/ds_study/lib/python3.8/site-packages/librosa/core/pitch.py:102: UserWarning: Trying to estimate tuning from empty frequency set.\n",
      "  return pitch_tuning(\n",
      "/Users/dohee/Documents/ds_study/ML_project1/codes/genre_transition.py:70: UserWarning: PySoundFile failed. Trying audioread instead.\n",
      "  y, sr = librosa.load(file_path)\n",
      "/Users/dohee/Documents/ds_study/ML_project1/codes/genre_transition.py:75: UserWarning: PySoundFile failed. Trying audioread instead.\n",
      "  new_y, new_sr = librosa.load(file_path,offset=start, duration=n)\n"
     ]
    }
   ],
   "source": [
    "import genre_transition as gt\n",
    "path = \"/Users/dohee/Documents/ds_study/data/new_musics/Antonio Vivaldi - Summer (Full) - The Four Seasons.wav\"\n",
    "new_data1 = gt.feature_extraction(file_path=path, file_name='Antonio Vivaldi', n=3)\n",
    "new_data2 = gt.mfcc_extraction(file_path=path, file_name='Antonio Vivaldi', mfcc_n=20,n=3)\n",
    "\n",
    "new_data1 = pd.DataFrame(new_data1)\n",
    "new_data2 = pd.DataFrame(new_data2)\n",
    "\n",
    "new_data = pd.merge(new_data1, new_data2)"
   ]
  },
  {
   "cell_type": "code",
   "execution_count": 37,
   "metadata": {},
   "outputs": [],
   "source": [
    "new_data.to_csv(\"/Users/dohee/Documents/ds_study/data/new_music_csv/classical/Antonio Vivaldi_3s.csv\",index=False)"
   ]
  },
  {
   "attachments": {},
   "cell_type": "markdown",
   "metadata": {},
   "source": [
    "Mozart: Requiem in D Minor, K.626 - 3a. Sequientia: Dies irae"
   ]
  },
  {
   "cell_type": "code",
   "execution_count": 39,
   "metadata": {},
   "outputs": [
    {
     "name": "stdout",
     "output_type": "stream",
     "text": [
      "[<Stream: itag=\"139\" mime_type=\"audio/mp4\" abr=\"48kbps\" acodec=\"mp4a.40.5\" progressive=\"False\" type=\"audio\">, <Stream: itag=\"140\" mime_type=\"audio/mp4\" abr=\"128kbps\" acodec=\"mp4a.40.2\" progressive=\"False\" type=\"audio\">, <Stream: itag=\"249\" mime_type=\"audio/webm\" abr=\"50kbps\" acodec=\"opus\" progressive=\"False\" type=\"audio\">, <Stream: itag=\"250\" mime_type=\"audio/webm\" abr=\"70kbps\" acodec=\"opus\" progressive=\"False\" type=\"audio\">, <Stream: itag=\"251\" mime_type=\"audio/webm\" abr=\"160kbps\" acodec=\"opus\" progressive=\"False\" type=\"audio\">]\n",
      "success\n"
     ]
    },
    {
     "name": "stderr",
     "output_type": "stream",
     "text": [
      "/var/folders/l4/c_yyc4653dzbw_s9qxhd31000000gn/T/ipykernel_90417/3902830743.py:6: DeprecationWarning: Call to deprecated function all (This object can be treated as a list, all() is useless).\n",
      "  print(yt.streams.filter(only_audio=True).all())\n"
     ]
    }
   ],
   "source": [
    "from pytube import YouTube\n",
    "\n",
    "#유튜브 전용 인스턴스 생성\n",
    "yt = YouTube('https://youtu.be/FGqoU9NIjZw')\n",
    "\n",
    "print(yt.streams.filter(only_audio=True).all())\n",
    "\n",
    "# 특정영상 다운로드\n",
    "yt.streams.filter(only_audio=True,).first().download(output_path=\"/Users/dohee/Documents/ds_study/data/new_musics/\")\n",
    "\n",
    "print('success')"
   ]
  },
  {
   "cell_type": "code",
   "execution_count": 40,
   "metadata": {},
   "outputs": [],
   "source": [
    "#확장자 변경 to wav\n",
    "import glob\n",
    "import os.path\n",
    "import librosa\n",
    "\n",
    "files = glob.glob(\"/Users/dohee/Documents/ds_study/data/new_musics/Mozart Requiem in D Minor K626 - 3a Sequientia Dies irae.mp4\")\n",
    "for x in files:\n",
    "\tif not os.path.isdir(x):\n",
    "\t\tfilename = os.path.splitext(x)\n",
    "\t\ttry:\n",
    "\t\t\tos.rename(x,filename[0] + '.wav')\n",
    "\t\texcept:\n",
    "\t\t\tpass"
   ]
  },
  {
   "cell_type": "code",
   "execution_count": 41,
   "metadata": {},
   "outputs": [
    {
     "name": "stderr",
     "output_type": "stream",
     "text": [
      "/Users/dohee/Documents/ds_study/ML_project1/codes/genre_transition.py:7: UserWarning: PySoundFile failed. Trying audioread instead.\n",
      "  y, sr = librosa.load(file_path)\n",
      "/Users/dohee/miniforge3/envs/ds_study/lib/python3.8/site-packages/librosa/core/audio.py:184: FutureWarning: librosa.core.audio.__audioread_load\n",
      "\tDeprecated as of librosa version 0.10.0.\n",
      "\tIt will be removed in librosa version 1.0.\n",
      "  y, sr_native = __audioread_load(path, offset, duration, dtype)\n",
      "/Users/dohee/Documents/ds_study/ML_project1/codes/genre_transition.py:12: UserWarning: PySoundFile failed. Trying audioread instead.\n",
      "  new_y, new_sr = librosa.load(file_path,offset=start,duration=n)\n",
      "/Users/dohee/Documents/ds_study/ML_project1/codes/genre_transition.py:70: UserWarning: PySoundFile failed. Trying audioread instead.\n",
      "  y, sr = librosa.load(file_path)\n",
      "/Users/dohee/Documents/ds_study/ML_project1/codes/genre_transition.py:75: UserWarning: PySoundFile failed. Trying audioread instead.\n",
      "  new_y, new_sr = librosa.load(file_path,offset=start, duration=n)\n"
     ]
    }
   ],
   "source": [
    "import genre_transition as gt\n",
    "path = \"/Users/dohee/Documents/ds_study/data/new_musics/Mozart Requiem in D Minor K626 - 3a Sequientia Dies irae.wav\"\n",
    "new_data1 = gt.feature_extraction(file_path=path, file_name='Mozart', n=3)\n",
    "new_data2 = gt.mfcc_extraction(file_path=path, file_name='Mozart', mfcc_n=20,n=3)\n",
    "\n",
    "new_data1 = pd.DataFrame(new_data1)\n",
    "new_data2 = pd.DataFrame(new_data2)\n",
    "\n",
    "new_data = pd.merge(new_data1, new_data2)"
   ]
  },
  {
   "cell_type": "code",
   "execution_count": 42,
   "metadata": {},
   "outputs": [],
   "source": [
    "new_data.to_csv(\"/Users/dohee/Documents/ds_study/data/new_music_csv/classical/Mozart_3s.csv\",index=False)"
   ]
  },
  {
   "attachments": {},
   "cell_type": "markdown",
   "metadata": {},
   "source": [
    "Johann Strauss II - Voices of Spring Waltz"
   ]
  },
  {
   "cell_type": "code",
   "execution_count": 43,
   "metadata": {},
   "outputs": [
    {
     "name": "stderr",
     "output_type": "stream",
     "text": [
      "/var/folders/l4/c_yyc4653dzbw_s9qxhd31000000gn/T/ipykernel_90417/1439339345.py:6: DeprecationWarning: Call to deprecated function all (This object can be treated as a list, all() is useless).\n",
      "  print(yt.streams.filter(only_audio=True).all())\n"
     ]
    },
    {
     "name": "stdout",
     "output_type": "stream",
     "text": [
      "[<Stream: itag=\"139\" mime_type=\"audio/mp4\" abr=\"48kbps\" acodec=\"mp4a.40.5\" progressive=\"False\" type=\"audio\">, <Stream: itag=\"140\" mime_type=\"audio/mp4\" abr=\"128kbps\" acodec=\"mp4a.40.2\" progressive=\"False\" type=\"audio\">, <Stream: itag=\"249\" mime_type=\"audio/webm\" abr=\"50kbps\" acodec=\"opus\" progressive=\"False\" type=\"audio\">, <Stream: itag=\"250\" mime_type=\"audio/webm\" abr=\"70kbps\" acodec=\"opus\" progressive=\"False\" type=\"audio\">, <Stream: itag=\"251\" mime_type=\"audio/webm\" abr=\"160kbps\" acodec=\"opus\" progressive=\"False\" type=\"audio\">]\n",
      "success\n"
     ]
    }
   ],
   "source": [
    "from pytube import YouTube\n",
    "\n",
    "#유튜브 전용 인스턴스 생성\n",
    "yt = YouTube('https://youtu.be/2gG9YSaf4Mg')\n",
    "\n",
    "print(yt.streams.filter(only_audio=True).all())\n",
    "\n",
    "# 특정영상 다운로드\n",
    "yt.streams.filter(only_audio=True,).first().download(output_path=\"/Users/dohee/Documents/ds_study/data/new_musics/\")\n",
    "\n",
    "print('success')"
   ]
  },
  {
   "cell_type": "code",
   "execution_count": 44,
   "metadata": {},
   "outputs": [],
   "source": [
    "#확장자 변경 to wav\n",
    "import glob\n",
    "import os.path\n",
    "import librosa\n",
    "\n",
    "files = glob.glob(\"/Users/dohee/Documents/ds_study/data/new_musics/Johann Strauss II - Voices of Spring Waltz.mp4\")\n",
    "for x in files:\n",
    "\tif not os.path.isdir(x):\n",
    "\t\tfilename = os.path.splitext(x)\n",
    "\t\ttry:\n",
    "\t\t\tos.rename(x,filename[0] + '.wav')\n",
    "\t\texcept:\n",
    "\t\t\tpass"
   ]
  },
  {
   "cell_type": "code",
   "execution_count": 45,
   "metadata": {},
   "outputs": [
    {
     "name": "stderr",
     "output_type": "stream",
     "text": [
      "/Users/dohee/Documents/ds_study/ML_project1/codes/genre_transition.py:7: UserWarning: PySoundFile failed. Trying audioread instead.\n",
      "  y, sr = librosa.load(file_path)\n",
      "/Users/dohee/miniforge3/envs/ds_study/lib/python3.8/site-packages/librosa/core/audio.py:184: FutureWarning: librosa.core.audio.__audioread_load\n",
      "\tDeprecated as of librosa version 0.10.0.\n",
      "\tIt will be removed in librosa version 1.0.\n",
      "  y, sr_native = __audioread_load(path, offset, duration, dtype)\n",
      "/Users/dohee/Documents/ds_study/ML_project1/codes/genre_transition.py:12: UserWarning: PySoundFile failed. Trying audioread instead.\n",
      "  new_y, new_sr = librosa.load(file_path,offset=start,duration=n)\n",
      "/Users/dohee/Documents/ds_study/ML_project1/codes/genre_transition.py:70: UserWarning: PySoundFile failed. Trying audioread instead.\n",
      "  y, sr = librosa.load(file_path)\n",
      "/Users/dohee/Documents/ds_study/ML_project1/codes/genre_transition.py:75: UserWarning: PySoundFile failed. Trying audioread instead.\n",
      "  new_y, new_sr = librosa.load(file_path,offset=start, duration=n)\n"
     ]
    }
   ],
   "source": [
    "import genre_transition as gt\n",
    "path = \"/Users/dohee/Documents/ds_study/data/new_musics/Johann Strauss II - Voices of Spring Waltz.wav\"\n",
    "new_data1 = gt.feature_extraction(file_path=path, file_name='Johann Strauss II', n=3)\n",
    "new_data2 = gt.mfcc_extraction(file_path=path, file_name='Johann Strauss II', mfcc_n=20,n=3)\n",
    "\n",
    "new_data1 = pd.DataFrame(new_data1)\n",
    "new_data2 = pd.DataFrame(new_data2)\n",
    "\n",
    "new_data = pd.merge(new_data1, new_data2)"
   ]
  },
  {
   "cell_type": "code",
   "execution_count": 46,
   "metadata": {},
   "outputs": [],
   "source": [
    "new_data.to_csv(\"/Users/dohee/Documents/ds_study/data/new_music_csv/classical/Johann Strauss II_3s.csv\",index=False)"
   ]
  },
  {
   "attachments": {},
   "cell_type": "markdown",
   "metadata": {},
   "source": [
    "## Rock"
   ]
  },
  {
   "attachments": {},
   "cell_type": "markdown",
   "metadata": {},
   "source": [
    "5 Seconds of Summer - She Looks So Perfect"
   ]
  },
  {
   "cell_type": "code",
   "execution_count": 47,
   "metadata": {},
   "outputs": [
    {
     "name": "stderr",
     "output_type": "stream",
     "text": [
      "/var/folders/l4/c_yyc4653dzbw_s9qxhd31000000gn/T/ipykernel_90417/2950889289.py:6: DeprecationWarning: Call to deprecated function all (This object can be treated as a list, all() is useless).\n",
      "  print(yt.streams.filter(only_audio=True).all())\n"
     ]
    },
    {
     "name": "stdout",
     "output_type": "stream",
     "text": [
      "[<Stream: itag=\"139\" mime_type=\"audio/mp4\" abr=\"48kbps\" acodec=\"mp4a.40.5\" progressive=\"False\" type=\"audio\">, <Stream: itag=\"140\" mime_type=\"audio/mp4\" abr=\"128kbps\" acodec=\"mp4a.40.2\" progressive=\"False\" type=\"audio\">, <Stream: itag=\"249\" mime_type=\"audio/webm\" abr=\"50kbps\" acodec=\"opus\" progressive=\"False\" type=\"audio\">, <Stream: itag=\"250\" mime_type=\"audio/webm\" abr=\"70kbps\" acodec=\"opus\" progressive=\"False\" type=\"audio\">, <Stream: itag=\"251\" mime_type=\"audio/webm\" abr=\"160kbps\" acodec=\"opus\" progressive=\"False\" type=\"audio\">]\n",
      "success\n"
     ]
    }
   ],
   "source": [
    "from pytube import YouTube\n",
    "\n",
    "#유튜브 전용 인스턴스 생성\n",
    "yt = YouTube('https://youtu.be/X2BYmmTI04I')\n",
    "\n",
    "print(yt.streams.filter(only_audio=True).all())\n",
    "\n",
    "# 특정영상 다운로드\n",
    "yt.streams.filter(only_audio=True,).first().download(output_path=\"/Users/dohee/Documents/ds_study/data/new_musics/\")\n",
    "\n",
    "print('success')"
   ]
  },
  {
   "cell_type": "code",
   "execution_count": 48,
   "metadata": {},
   "outputs": [],
   "source": [
    "#확장자 변경 to wav\n",
    "import glob\n",
    "import os.path\n",
    "import librosa\n",
    "\n",
    "files = glob.glob(\"/Users/dohee/Documents/ds_study/data/new_musics/5 Seconds of Summer - She Looks So Perfect.mp4\")\n",
    "for x in files:\n",
    "\tif not os.path.isdir(x):\n",
    "\t\tfilename = os.path.splitext(x)\n",
    "\t\ttry:\n",
    "\t\t\tos.rename(x,filename[0] + '.wav')\n",
    "\t\texcept:\n",
    "\t\t\tpass"
   ]
  },
  {
   "cell_type": "code",
   "execution_count": 49,
   "metadata": {},
   "outputs": [
    {
     "name": "stderr",
     "output_type": "stream",
     "text": [
      "/Users/dohee/Documents/ds_study/ML_project1/codes/genre_transition.py:7: UserWarning: PySoundFile failed. Trying audioread instead.\n",
      "  y, sr = librosa.load(file_path)\n",
      "/Users/dohee/miniforge3/envs/ds_study/lib/python3.8/site-packages/librosa/core/audio.py:184: FutureWarning: librosa.core.audio.__audioread_load\n",
      "\tDeprecated as of librosa version 0.10.0.\n",
      "\tIt will be removed in librosa version 1.0.\n",
      "  y, sr_native = __audioread_load(path, offset, duration, dtype)\n",
      "/Users/dohee/Documents/ds_study/ML_project1/codes/genre_transition.py:12: UserWarning: PySoundFile failed. Trying audioread instead.\n",
      "  new_y, new_sr = librosa.load(file_path,offset=start,duration=n)\n",
      "/Users/dohee/miniforge3/envs/ds_study/lib/python3.8/site-packages/librosa/core/pitch.py:102: UserWarning: Trying to estimate tuning from empty frequency set.\n",
      "  return pitch_tuning(\n",
      "/Users/dohee/Documents/ds_study/ML_project1/codes/genre_transition.py:70: UserWarning: PySoundFile failed. Trying audioread instead.\n",
      "  y, sr = librosa.load(file_path)\n",
      "/Users/dohee/Documents/ds_study/ML_project1/codes/genre_transition.py:75: UserWarning: PySoundFile failed. Trying audioread instead.\n",
      "  new_y, new_sr = librosa.load(file_path,offset=start, duration=n)\n"
     ]
    }
   ],
   "source": [
    "import genre_transition as gt\n",
    "path = \"/Users/dohee/Documents/ds_study/data/new_musics/5 Seconds of Summer - She Looks So Perfect.wav\"\n",
    "new_data1 = gt.feature_extraction(file_path=path, file_name='5 Seconds of Summer', n=3)\n",
    "new_data2 = gt.mfcc_extraction(file_path=path, file_name='5 Seconds of Summer', mfcc_n=20,n=3)\n",
    "\n",
    "new_data1 = pd.DataFrame(new_data1)\n",
    "new_data2 = pd.DataFrame(new_data2)\n",
    "\n",
    "new_data = pd.merge(new_data1, new_data2)"
   ]
  },
  {
   "cell_type": "code",
   "execution_count": 50,
   "metadata": {},
   "outputs": [],
   "source": [
    "new_data.to_csv(\"/Users/dohee/Documents/ds_study/data/new_music_csv/rock/5 Seconds of Summer_3s.csv\",index=False)"
   ]
  },
  {
   "attachments": {},
   "cell_type": "markdown",
   "metadata": {},
   "source": [
    "## Reggae"
   ]
  },
  {
   "attachments": {},
   "cell_type": "markdown",
   "metadata": {},
   "source": [
    "Rockin'it ft Dennis Alcapone"
   ]
  },
  {
   "cell_type": "code",
   "execution_count": 51,
   "metadata": {},
   "outputs": [
    {
     "name": "stderr",
     "output_type": "stream",
     "text": [
      "/var/folders/l4/c_yyc4653dzbw_s9qxhd31000000gn/T/ipykernel_90417/1861466450.py:6: DeprecationWarning: Call to deprecated function all (This object can be treated as a list, all() is useless).\n",
      "  print(yt.streams.filter(only_audio=True).all())\n"
     ]
    },
    {
     "name": "stdout",
     "output_type": "stream",
     "text": [
      "[<Stream: itag=\"139\" mime_type=\"audio/mp4\" abr=\"48kbps\" acodec=\"mp4a.40.5\" progressive=\"False\" type=\"audio\">, <Stream: itag=\"140\" mime_type=\"audio/mp4\" abr=\"128kbps\" acodec=\"mp4a.40.2\" progressive=\"False\" type=\"audio\">, <Stream: itag=\"251\" mime_type=\"audio/webm\" abr=\"160kbps\" acodec=\"opus\" progressive=\"False\" type=\"audio\">]\n",
      "success\n"
     ]
    }
   ],
   "source": [
    "from pytube import YouTube\n",
    "\n",
    "#유튜브 전용 인스턴스 생성\n",
    "yt = YouTube('https://youtu.be/_Yq5enQ3JpM')\n",
    "\n",
    "print(yt.streams.filter(only_audio=True).all())\n",
    "\n",
    "# 특정영상 다운로드\n",
    "yt.streams.filter(only_audio=True,).first().download(output_path=\"/Users/dohee/Documents/ds_study/data/new_musics/\")\n",
    "\n",
    "print('success')"
   ]
  },
  {
   "cell_type": "code",
   "execution_count": 52,
   "metadata": {},
   "outputs": [],
   "source": [
    "#확장자 변경 to wav\n",
    "import glob\n",
    "import os.path\n",
    "import librosa\n",
    "\n",
    "files = glob.glob(\"/Users/dohee/Documents/ds_study/data/new_musics/Rockinit ft  Dennis Alcapone.mp4\")\n",
    "for x in files:\n",
    "\tif not os.path.isdir(x):\n",
    "\t\tfilename = os.path.splitext(x)\n",
    "\t\ttry:\n",
    "\t\t\tos.rename(x,filename[0] + '.wav')\n",
    "\t\texcept:\n",
    "\t\t\tpass"
   ]
  },
  {
   "cell_type": "code",
   "execution_count": 53,
   "metadata": {},
   "outputs": [
    {
     "name": "stderr",
     "output_type": "stream",
     "text": [
      "/Users/dohee/Documents/ds_study/ML_project1/codes/genre_transition.py:7: UserWarning: PySoundFile failed. Trying audioread instead.\n",
      "  y, sr = librosa.load(file_path)\n",
      "/Users/dohee/miniforge3/envs/ds_study/lib/python3.8/site-packages/librosa/core/audio.py:184: FutureWarning: librosa.core.audio.__audioread_load\n",
      "\tDeprecated as of librosa version 0.10.0.\n",
      "\tIt will be removed in librosa version 1.0.\n",
      "  y, sr_native = __audioread_load(path, offset, duration, dtype)\n",
      "/Users/dohee/Documents/ds_study/ML_project1/codes/genre_transition.py:12: UserWarning: PySoundFile failed. Trying audioread instead.\n",
      "  new_y, new_sr = librosa.load(file_path,offset=start,duration=n)\n",
      "/Users/dohee/Documents/ds_study/ML_project1/codes/genre_transition.py:70: UserWarning: PySoundFile failed. Trying audioread instead.\n",
      "  y, sr = librosa.load(file_path)\n",
      "/Users/dohee/Documents/ds_study/ML_project1/codes/genre_transition.py:75: UserWarning: PySoundFile failed. Trying audioread instead.\n",
      "  new_y, new_sr = librosa.load(file_path,offset=start, duration=n)\n"
     ]
    }
   ],
   "source": [
    "import genre_transition as gt\n",
    "path = \"/Users/dohee/Documents/ds_study/data/new_musics/Rockinit ft  Dennis Alcapone.wav\"\n",
    "new_data1 = gt.feature_extraction(file_path=path, file_name='Rockinit', n=3)\n",
    "new_data2 = gt.mfcc_extraction(file_path=path, file_name='Rockinit', mfcc_n=20,n=3)\n",
    "\n",
    "new_data1 = pd.DataFrame(new_data1)\n",
    "new_data2 = pd.DataFrame(new_data2)\n",
    "\n",
    "new_data = pd.merge(new_data1, new_data2)"
   ]
  },
  {
   "cell_type": "code",
   "execution_count": 54,
   "metadata": {},
   "outputs": [],
   "source": [
    "new_data.to_csv(\"/Users/dohee/Documents/ds_study/data/new_music_csv/reggae/Rockinit_3s.csv\",index=False)"
   ]
  },
  {
   "attachments": {},
   "cell_type": "markdown",
   "metadata": {},
   "source": [
    "Under the sun"
   ]
  },
  {
   "cell_type": "code",
   "execution_count": 55,
   "metadata": {},
   "outputs": [
    {
     "name": "stderr",
     "output_type": "stream",
     "text": [
      "/var/folders/l4/c_yyc4653dzbw_s9qxhd31000000gn/T/ipykernel_90417/4000947198.py:6: DeprecationWarning: Call to deprecated function all (This object can be treated as a list, all() is useless).\n",
      "  print(yt.streams.filter(only_audio=True).all())\n"
     ]
    },
    {
     "name": "stdout",
     "output_type": "stream",
     "text": [
      "[<Stream: itag=\"139\" mime_type=\"audio/mp4\" abr=\"48kbps\" acodec=\"mp4a.40.5\" progressive=\"False\" type=\"audio\">, <Stream: itag=\"140\" mime_type=\"audio/mp4\" abr=\"128kbps\" acodec=\"mp4a.40.2\" progressive=\"False\" type=\"audio\">, <Stream: itag=\"251\" mime_type=\"audio/webm\" abr=\"160kbps\" acodec=\"opus\" progressive=\"False\" type=\"audio\">]\n",
      "success\n"
     ]
    }
   ],
   "source": [
    "from pytube import YouTube\n",
    "\n",
    "#유튜브 전용 인스턴스 생성\n",
    "yt = YouTube('https://youtu.be/dbnIRzQqKVI')\n",
    "\n",
    "print(yt.streams.filter(only_audio=True).all())\n",
    "\n",
    "# 특정영상 다운로드\n",
    "yt.streams.filter(only_audio=True,).first().download(output_path=\"/Users/dohee/Documents/ds_study/data/new_musics/\")\n",
    "\n",
    "print('success')"
   ]
  },
  {
   "cell_type": "code",
   "execution_count": 56,
   "metadata": {},
   "outputs": [],
   "source": [
    "#확장자 변경 to wav\n",
    "import glob\n",
    "import os.path\n",
    "import librosa\n",
    "\n",
    "files = glob.glob(\"/Users/dohee/Documents/ds_study/data/new_musics/Under the sun.mp4\")\n",
    "for x in files:\n",
    "\tif not os.path.isdir(x):\n",
    "\t\tfilename = os.path.splitext(x)\n",
    "\t\ttry:\n",
    "\t\t\tos.rename(x,filename[0] + '.wav')\n",
    "\t\texcept:\n",
    "\t\t\tpass"
   ]
  },
  {
   "cell_type": "code",
   "execution_count": 57,
   "metadata": {},
   "outputs": [
    {
     "name": "stderr",
     "output_type": "stream",
     "text": [
      "/Users/dohee/Documents/ds_study/ML_project1/codes/genre_transition.py:7: UserWarning: PySoundFile failed. Trying audioread instead.\n",
      "  y, sr = librosa.load(file_path)\n",
      "/Users/dohee/miniforge3/envs/ds_study/lib/python3.8/site-packages/librosa/core/audio.py:184: FutureWarning: librosa.core.audio.__audioread_load\n",
      "\tDeprecated as of librosa version 0.10.0.\n",
      "\tIt will be removed in librosa version 1.0.\n",
      "  y, sr_native = __audioread_load(path, offset, duration, dtype)\n",
      "/Users/dohee/Documents/ds_study/ML_project1/codes/genre_transition.py:12: UserWarning: PySoundFile failed. Trying audioread instead.\n",
      "  new_y, new_sr = librosa.load(file_path,offset=start,duration=n)\n",
      "/Users/dohee/Documents/ds_study/ML_project1/codes/genre_transition.py:70: UserWarning: PySoundFile failed. Trying audioread instead.\n",
      "  y, sr = librosa.load(file_path)\n",
      "/Users/dohee/Documents/ds_study/ML_project1/codes/genre_transition.py:75: UserWarning: PySoundFile failed. Trying audioread instead.\n",
      "  new_y, new_sr = librosa.load(file_path,offset=start, duration=n)\n"
     ]
    }
   ],
   "source": [
    "import genre_transition as gt\n",
    "path = \"/Users/dohee/Documents/ds_study/data/new_musics/Under the sun.wav\"\n",
    "new_data1 = gt.feature_extraction(file_path=path, file_name='Under the sun', n=3)\n",
    "new_data2 = gt.mfcc_extraction(file_path=path, file_name='Under the sun', mfcc_n=20,n=3)\n",
    "\n",
    "new_data1 = pd.DataFrame(new_data1)\n",
    "new_data2 = pd.DataFrame(new_data2)\n",
    "\n",
    "new_data = pd.merge(new_data1, new_data2)"
   ]
  },
  {
   "cell_type": "code",
   "execution_count": 58,
   "metadata": {},
   "outputs": [],
   "source": [
    "new_data.to_csv(\"/Users/dohee/Documents/ds_study/data/new_music_csv/reggae/Under the sun_3s.csv\",index=False)"
   ]
  },
  {
   "attachments": {},
   "cell_type": "markdown",
   "metadata": {},
   "source": [
    "## Metal"
   ]
  },
  {
   "attachments": {},
   "cell_type": "markdown",
   "metadata": {},
   "source": [
    "Judas Priest - Firepower"
   ]
  },
  {
   "cell_type": "code",
   "execution_count": 60,
   "metadata": {},
   "outputs": [
    {
     "name": "stderr",
     "output_type": "stream",
     "text": [
      "/var/folders/l4/c_yyc4653dzbw_s9qxhd31000000gn/T/ipykernel_90417/4042378460.py:6: DeprecationWarning: Call to deprecated function all (This object can be treated as a list, all() is useless).\n",
      "  print(yt.streams.filter(only_audio=True).all())\n"
     ]
    },
    {
     "name": "stdout",
     "output_type": "stream",
     "text": [
      "[<Stream: itag=\"139\" mime_type=\"audio/mp4\" abr=\"48kbps\" acodec=\"mp4a.40.5\" progressive=\"False\" type=\"audio\">, <Stream: itag=\"140\" mime_type=\"audio/mp4\" abr=\"128kbps\" acodec=\"mp4a.40.2\" progressive=\"False\" type=\"audio\">, <Stream: itag=\"249\" mime_type=\"audio/webm\" abr=\"50kbps\" acodec=\"opus\" progressive=\"False\" type=\"audio\">, <Stream: itag=\"250\" mime_type=\"audio/webm\" abr=\"70kbps\" acodec=\"opus\" progressive=\"False\" type=\"audio\">, <Stream: itag=\"251\" mime_type=\"audio/webm\" abr=\"160kbps\" acodec=\"opus\" progressive=\"False\" type=\"audio\">]\n",
      "success\n"
     ]
    }
   ],
   "source": [
    "from pytube import YouTube\n",
    "\n",
    "#유튜브 전용 인스턴스 생성\n",
    "yt = YouTube('https://youtu.be/6QtjdDiMLVg')\n",
    "\n",
    "print(yt.streams.filter(only_audio=True).all())\n",
    "\n",
    "# 특정영상 다운로드\n",
    "yt.streams.filter(only_audio=True,).first().download(output_path=\"/Users/dohee/Documents/ds_study/data/new_musics/\")\n",
    "\n",
    "print('success')"
   ]
  },
  {
   "cell_type": "code",
   "execution_count": 61,
   "metadata": {},
   "outputs": [],
   "source": [
    "import glob\n",
    "import os.path\n",
    "import librosa\n",
    "\n",
    "files = glob.glob(\"/Users/dohee/Documents/ds_study/data/new_musics/Judas Priest - Firepower (Audio).mp4\")\n",
    "for x in files:\n",
    "\tif not os.path.isdir(x):\n",
    "\t\tfilename = os.path.splitext(x)\n",
    "\t\ttry:\n",
    "\t\t\tos.rename(x,filename[0] + '.wav')\n",
    "\t\texcept:\n",
    "\t\t\tpass"
   ]
  },
  {
   "cell_type": "code",
   "execution_count": 63,
   "metadata": {},
   "outputs": [
    {
     "name": "stderr",
     "output_type": "stream",
     "text": [
      "/Users/dohee/Documents/ds_study/ML_project1/codes/genre_transition.py:7: UserWarning: PySoundFile failed. Trying audioread instead.\n",
      "  y, sr = librosa.load(file_path)\n",
      "/Users/dohee/miniforge3/envs/ds_study/lib/python3.8/site-packages/librosa/core/audio.py:184: FutureWarning: librosa.core.audio.__audioread_load\n",
      "\tDeprecated as of librosa version 0.10.0.\n",
      "\tIt will be removed in librosa version 1.0.\n",
      "  y, sr_native = __audioread_load(path, offset, duration, dtype)\n",
      "/Users/dohee/Documents/ds_study/ML_project1/codes/genre_transition.py:12: UserWarning: PySoundFile failed. Trying audioread instead.\n",
      "  new_y, new_sr = librosa.load(file_path,offset=start,duration=n)\n",
      "/Users/dohee/Documents/ds_study/ML_project1/codes/genre_transition.py:70: UserWarning: PySoundFile failed. Trying audioread instead.\n",
      "  y, sr = librosa.load(file_path)\n",
      "/Users/dohee/Documents/ds_study/ML_project1/codes/genre_transition.py:75: UserWarning: PySoundFile failed. Trying audioread instead.\n",
      "  new_y, new_sr = librosa.load(file_path,offset=start, duration=n)\n"
     ]
    }
   ],
   "source": [
    "import genre_transition as gt\n",
    "path = \"/Users/dohee/Documents/ds_study/data/new_musics/Judas Priest - Firepower (Audio).wav\"\n",
    "new_data1 = gt.feature_extraction(file_path=path, file_name='Judas Priest', n=3)\n",
    "new_data2 = gt.mfcc_extraction(file_path=path, file_name='Judas Priest', mfcc_n=20,n=3)\n",
    "\n",
    "new_data1 = pd.DataFrame(new_data1)\n",
    "new_data2 = pd.DataFrame(new_data2)\n",
    "\n",
    "new_data = pd.merge(new_data1, new_data2)"
   ]
  },
  {
   "cell_type": "code",
   "execution_count": 64,
   "metadata": {},
   "outputs": [],
   "source": [
    "new_data.to_csv(\"/Users/dohee/Documents/ds_study/data/new_music_csv/metal/Judas Priest_3s.csv\",index=False)"
   ]
  },
  {
   "attachments": {},
   "cell_type": "markdown",
   "metadata": {},
   "source": [
    "Metallica - Enter sandman"
   ]
  },
  {
   "cell_type": "code",
   "execution_count": 72,
   "metadata": {},
   "outputs": [],
   "source": [
    "path = \"/Users/dohee/Documents/ds_study/data/new_musics/Metallica Enter Sandman (Official Music Video).wav\""
   ]
  },
  {
   "cell_type": "code",
   "execution_count": 73,
   "metadata": {},
   "outputs": [
    {
     "name": "stderr",
     "output_type": "stream",
     "text": [
      "/Users/dohee/Documents/ds_study/ML_project1/codes/genre_transition.py:7: UserWarning: PySoundFile failed. Trying audioread instead.\n",
      "  y, sr = librosa.load(file_path)\n",
      "/Users/dohee/miniforge3/envs/ds_study/lib/python3.8/site-packages/librosa/core/audio.py:184: FutureWarning: librosa.core.audio.__audioread_load\n",
      "\tDeprecated as of librosa version 0.10.0.\n",
      "\tIt will be removed in librosa version 1.0.\n",
      "  y, sr_native = __audioread_load(path, offset, duration, dtype)\n",
      "/Users/dohee/Documents/ds_study/ML_project1/codes/genre_transition.py:12: UserWarning: PySoundFile failed. Trying audioread instead.\n",
      "  new_y, new_sr = librosa.load(file_path,offset=start,duration=n)\n",
      "/Users/dohee/Documents/ds_study/ML_project1/codes/genre_transition.py:70: UserWarning: PySoundFile failed. Trying audioread instead.\n",
      "  y, sr = librosa.load(file_path)\n",
      "/Users/dohee/Documents/ds_study/ML_project1/codes/genre_transition.py:75: UserWarning: PySoundFile failed. Trying audioread instead.\n",
      "  new_y, new_sr = librosa.load(file_path,offset=start, duration=n)\n"
     ]
    }
   ],
   "source": [
    "import genre_transition as gt\n",
    "new_data1 = gt.feature_extraction(file_path=path, file_name='Enter Sandman', n=3)\n",
    "new_data2 = gt.mfcc_extraction(file_path=path, file_name='Enter Sandman', mfcc_n=20,n=3)\n",
    "\n",
    "new_data1 = pd.DataFrame(new_data1)\n",
    "new_data2 = pd.DataFrame(new_data2)\n",
    "\n",
    "new_data = pd.merge(new_data1, new_data2)"
   ]
  },
  {
   "cell_type": "code",
   "execution_count": 74,
   "metadata": {},
   "outputs": [],
   "source": [
    "new_data.to_csv(\"/Users/dohee/Documents/ds_study/data/new_music_csv/metal/Enter Sandman_3s.csv\",index=False)"
   ]
  },
  {
   "attachments": {},
   "cell_type": "markdown",
   "metadata": {},
   "source": [
    "## Jazz"
   ]
  },
  {
   "attachments": {},
   "cell_type": "markdown",
   "metadata": {},
   "source": [
    "Norah Jones - Don't Know Why"
   ]
  },
  {
   "cell_type": "code",
   "execution_count": 66,
   "metadata": {},
   "outputs": [
    {
     "name": "stderr",
     "output_type": "stream",
     "text": [
      "/var/folders/l4/c_yyc4653dzbw_s9qxhd31000000gn/T/ipykernel_90417/1278093316.py:6: DeprecationWarning: Call to deprecated function all (This object can be treated as a list, all() is useless).\n",
      "  print(yt.streams.filter(only_audio=True).all())\n"
     ]
    },
    {
     "name": "stdout",
     "output_type": "stream",
     "text": [
      "[<Stream: itag=\"139\" mime_type=\"audio/mp4\" abr=\"48kbps\" acodec=\"mp4a.40.5\" progressive=\"False\" type=\"audio\">, <Stream: itag=\"140\" mime_type=\"audio/mp4\" abr=\"128kbps\" acodec=\"mp4a.40.2\" progressive=\"False\" type=\"audio\">, <Stream: itag=\"249\" mime_type=\"audio/webm\" abr=\"50kbps\" acodec=\"opus\" progressive=\"False\" type=\"audio\">, <Stream: itag=\"250\" mime_type=\"audio/webm\" abr=\"70kbps\" acodec=\"opus\" progressive=\"False\" type=\"audio\">, <Stream: itag=\"251\" mime_type=\"audio/webm\" abr=\"160kbps\" acodec=\"opus\" progressive=\"False\" type=\"audio\">]\n",
      "success\n"
     ]
    }
   ],
   "source": [
    "from pytube import YouTube\n",
    "\n",
    "#유튜브 전용 인스턴스 생성\n",
    "yt = YouTube('https://youtu.be/tO4dxvguQDk')\n",
    "\n",
    "print(yt.streams.filter(only_audio=True).all())\n",
    "\n",
    "# 특정영상 다운로드\n",
    "yt.streams.filter(only_audio=True,).first().download(output_path=\"/Users/dohee/Documents/ds_study/data/new_musics/\")\n",
    "\n",
    "print('success')"
   ]
  },
  {
   "cell_type": "code",
   "execution_count": 67,
   "metadata": {},
   "outputs": [],
   "source": [
    "import glob\n",
    "import os.path\n",
    "import librosa\n",
    "\n",
    "files = glob.glob(\"/Users/dohee/Documents/ds_study/data/new_musics/Norah Jones - Dont Know Why.mp4\")\n",
    "for x in files:\n",
    "\tif not os.path.isdir(x):\n",
    "\t\tfilename = os.path.splitext(x)\n",
    "\t\ttry:\n",
    "\t\t\tos.rename(x,filename[0] + '.wav')\n",
    "\t\texcept:\n",
    "\t\t\tpass"
   ]
  },
  {
   "cell_type": "code",
   "execution_count": 68,
   "metadata": {},
   "outputs": [
    {
     "name": "stderr",
     "output_type": "stream",
     "text": [
      "/Users/dohee/Documents/ds_study/ML_project1/codes/genre_transition.py:7: UserWarning: PySoundFile failed. Trying audioread instead.\n",
      "  y, sr = librosa.load(file_path)\n",
      "/Users/dohee/miniforge3/envs/ds_study/lib/python3.8/site-packages/librosa/core/audio.py:184: FutureWarning: librosa.core.audio.__audioread_load\n",
      "\tDeprecated as of librosa version 0.10.0.\n",
      "\tIt will be removed in librosa version 1.0.\n",
      "  y, sr_native = __audioread_load(path, offset, duration, dtype)\n",
      "/Users/dohee/Documents/ds_study/ML_project1/codes/genre_transition.py:12: UserWarning: PySoundFile failed. Trying audioread instead.\n",
      "  new_y, new_sr = librosa.load(file_path,offset=start,duration=n)\n",
      "/Users/dohee/Documents/ds_study/ML_project1/codes/genre_transition.py:70: UserWarning: PySoundFile failed. Trying audioread instead.\n",
      "  y, sr = librosa.load(file_path)\n",
      "/Users/dohee/Documents/ds_study/ML_project1/codes/genre_transition.py:75: UserWarning: PySoundFile failed. Trying audioread instead.\n",
      "  new_y, new_sr = librosa.load(file_path,offset=start, duration=n)\n"
     ]
    }
   ],
   "source": [
    "import genre_transition as gt\n",
    "path = \"/Users/dohee/Documents/ds_study/data/new_musics/Norah Jones - Dont Know Why.wav\"\n",
    "new_data1 = gt.feature_extraction(file_path=path, file_name='Norah Jones', n=3)\n",
    "new_data2 = gt.mfcc_extraction(file_path=path, file_name='Norah Jones', mfcc_n=20,n=3)\n",
    "\n",
    "new_data1 = pd.DataFrame(new_data1)\n",
    "new_data2 = pd.DataFrame(new_data2)\n",
    "\n",
    "new_data = pd.merge(new_data1, new_data2)"
   ]
  },
  {
   "cell_type": "code",
   "execution_count": 69,
   "metadata": {},
   "outputs": [],
   "source": [
    "new_data.to_csv(\"/Users/dohee/Documents/ds_study/data/new_music_csv/metal/Norah Jones_3s.csv\",index=False)"
   ]
  },
  {
   "attachments": {},
   "cell_type": "markdown",
   "metadata": {},
   "source": [
    "## Disco"
   ]
  },
  {
   "attachments": {},
   "cell_type": "markdown",
   "metadata": {},
   "source": [
    "Lizzo - Juice"
   ]
  },
  {
   "cell_type": "code",
   "execution_count": 75,
   "metadata": {},
   "outputs": [
    {
     "name": "stderr",
     "output_type": "stream",
     "text": [
      "/var/folders/l4/c_yyc4653dzbw_s9qxhd31000000gn/T/ipykernel_90417/1768852516.py:6: DeprecationWarning: Call to deprecated function all (This object can be treated as a list, all() is useless).\n",
      "  print(yt.streams.filter(only_audio=True).all())\n"
     ]
    },
    {
     "name": "stdout",
     "output_type": "stream",
     "text": [
      "[<Stream: itag=\"139\" mime_type=\"audio/mp4\" abr=\"48kbps\" acodec=\"mp4a.40.5\" progressive=\"False\" type=\"audio\">, <Stream: itag=\"140\" mime_type=\"audio/mp4\" abr=\"128kbps\" acodec=\"mp4a.40.2\" progressive=\"False\" type=\"audio\">, <Stream: itag=\"249\" mime_type=\"audio/webm\" abr=\"50kbps\" acodec=\"opus\" progressive=\"False\" type=\"audio\">, <Stream: itag=\"250\" mime_type=\"audio/webm\" abr=\"70kbps\" acodec=\"opus\" progressive=\"False\" type=\"audio\">, <Stream: itag=\"251\" mime_type=\"audio/webm\" abr=\"160kbps\" acodec=\"opus\" progressive=\"False\" type=\"audio\">]\n",
      "success\n"
     ]
    }
   ],
   "source": [
    "from pytube import YouTube\n",
    "\n",
    "#유튜브 전용 인스턴스 생성\n",
    "yt = YouTube('https://youtu.be/hqL9MD2sDRw')\n",
    "\n",
    "print(yt.streams.filter(only_audio=True).all())\n",
    "\n",
    "# 특정영상 다운로드\n",
    "yt.streams.filter(only_audio=True,).first().download(output_path=\"/Users/dohee/Documents/ds_study/data/new_musics/\")\n",
    "\n",
    "print('success')"
   ]
  },
  {
   "cell_type": "code",
   "execution_count": 78,
   "metadata": {},
   "outputs": [],
   "source": [
    "import glob\n",
    "import os.path\n",
    "import librosa\n",
    "\n",
    "files = glob.glob(\"/Users/dohee/Documents/ds_study/data/new_musics/🧃🧃내 매력이 넘치는 걸 어떡해 Lizzo - Juice (2019) [가사해석].mp4\")\n",
    "for x in files:\n",
    "\tif not os.path.isdir(x):\n",
    "\t\tfilename = os.path.splitext(x)\n",
    "\t\ttry:\n",
    "\t\t\tos.rename(x,filename[0] + '.wav')\n",
    "\t\texcept:\n",
    "\t\t\tpass"
   ]
  },
  {
   "cell_type": "code",
   "execution_count": 79,
   "metadata": {},
   "outputs": [
    {
     "name": "stderr",
     "output_type": "stream",
     "text": [
      "/Users/dohee/Documents/ds_study/ML_project1/codes/genre_transition.py:12: UserWarning: PySoundFile failed. Trying audioread instead.\n",
      "  new_y, new_sr = librosa.load(file_path,offset=start,duration=n)\n",
      "/Users/dohee/Documents/ds_study/ML_project1/codes/genre_transition.py:70: UserWarning: PySoundFile failed. Trying audioread instead.\n",
      "  y, sr = librosa.load(file_path)\n",
      "/Users/dohee/Documents/ds_study/ML_project1/codes/genre_transition.py:75: UserWarning: PySoundFile failed. Trying audioread instead.\n",
      "  new_y, new_sr = librosa.load(file_path,offset=start, duration=n)\n"
     ]
    }
   ],
   "source": [
    "import genre_transition as gt\n",
    "path = \"/Users/dohee/Documents/ds_study/data/new_musics/🧃🧃내 매력이 넘치는 걸 어떡해 Lizzo - Juice (2019) [가사해석].wav\"\n",
    "new_data1 = gt.feature_extraction(file_path=path, file_name='Lizzo', n=3)\n",
    "new_data2 = gt.mfcc_extraction(file_path=path, file_name='Lizzo', mfcc_n=20,n=3)\n",
    "\n",
    "new_data1 = pd.DataFrame(new_data1)\n",
    "new_data2 = pd.DataFrame(new_data2)\n",
    "\n",
    "new_data = pd.merge(new_data1, new_data2)"
   ]
  },
  {
   "cell_type": "code",
   "execution_count": 80,
   "metadata": {},
   "outputs": [],
   "source": [
    "new_data.to_csv(\"/Users/dohee/Documents/ds_study/data/new_music_csv/disco/Lizzo.csv\",index=False)"
   ]
  },
  {
   "attachments": {},
   "cell_type": "markdown",
   "metadata": {},
   "source": [
    "처진 달팽이_압구정 날라리"
   ]
  },
  {
   "cell_type": "code",
   "execution_count": 81,
   "metadata": {},
   "outputs": [
    {
     "name": "stderr",
     "output_type": "stream",
     "text": [
      "/var/folders/l4/c_yyc4653dzbw_s9qxhd31000000gn/T/ipykernel_90417/581304175.py:6: DeprecationWarning: Call to deprecated function all (This object can be treated as a list, all() is useless).\n",
      "  print(yt.streams.filter(only_audio=True).all())\n"
     ]
    },
    {
     "name": "stdout",
     "output_type": "stream",
     "text": [
      "[<Stream: itag=\"139\" mime_type=\"audio/mp4\" abr=\"48kbps\" acodec=\"mp4a.40.5\" progressive=\"False\" type=\"audio\">, <Stream: itag=\"140\" mime_type=\"audio/mp4\" abr=\"128kbps\" acodec=\"mp4a.40.2\" progressive=\"False\" type=\"audio\">, <Stream: itag=\"249\" mime_type=\"audio/webm\" abr=\"50kbps\" acodec=\"opus\" progressive=\"False\" type=\"audio\">, <Stream: itag=\"250\" mime_type=\"audio/webm\" abr=\"70kbps\" acodec=\"opus\" progressive=\"False\" type=\"audio\">, <Stream: itag=\"251\" mime_type=\"audio/webm\" abr=\"160kbps\" acodec=\"opus\" progressive=\"False\" type=\"audio\">]\n",
      "success\n"
     ]
    }
   ],
   "source": [
    "from pytube import YouTube\n",
    "\n",
    "#유튜브 전용 인스턴스 생성\n",
    "yt = YouTube('https://youtu.be/N1BkWb5xXK8')\n",
    "\n",
    "print(yt.streams.filter(only_audio=True).all())\n",
    "\n",
    "# 특정영상 다운로드\n",
    "yt.streams.filter(only_audio=True,).first().download(output_path=\"/Users/dohee/Documents/ds_study/data/new_musics/\")\n",
    "\n",
    "print('success')"
   ]
  },
  {
   "cell_type": "code",
   "execution_count": 82,
   "metadata": {},
   "outputs": [],
   "source": [
    "import glob\n",
    "import os.path\n",
    "import librosa\n",
    "\n",
    "files = glob.glob(\"/Users/dohee/Documents/ds_study/data/new_musics/처진 달팽이_압구정 날라리 korean lyrics.mp4\")\n",
    "for x in files:\n",
    "\tif not os.path.isdir(x):\n",
    "\t\tfilename = os.path.splitext(x)\n",
    "\t\ttry:\n",
    "\t\t\tos.rename(x,filename[0] + '.wav')\n",
    "\t\texcept:\n",
    "\t\t\tpass"
   ]
  },
  {
   "cell_type": "code",
   "execution_count": 83,
   "metadata": {},
   "outputs": [
    {
     "name": "stderr",
     "output_type": "stream",
     "text": [
      "/Users/dohee/Documents/ds_study/ML_project1/codes/genre_transition.py:7: UserWarning: PySoundFile failed. Trying audioread instead.\n",
      "  y, sr = librosa.load(file_path)\n",
      "/Users/dohee/miniforge3/envs/ds_study/lib/python3.8/site-packages/librosa/core/audio.py:184: FutureWarning: librosa.core.audio.__audioread_load\n",
      "\tDeprecated as of librosa version 0.10.0.\n",
      "\tIt will be removed in librosa version 1.0.\n",
      "  y, sr_native = __audioread_load(path, offset, duration, dtype)\n",
      "/Users/dohee/Documents/ds_study/ML_project1/codes/genre_transition.py:12: UserWarning: PySoundFile failed. Trying audioread instead.\n",
      "  new_y, new_sr = librosa.load(file_path,offset=start,duration=n)\n",
      "/Users/dohee/Documents/ds_study/ML_project1/codes/genre_transition.py:70: UserWarning: PySoundFile failed. Trying audioread instead.\n",
      "  y, sr = librosa.load(file_path)\n",
      "/Users/dohee/Documents/ds_study/ML_project1/codes/genre_transition.py:75: UserWarning: PySoundFile failed. Trying audioread instead.\n",
      "  new_y, new_sr = librosa.load(file_path,offset=start, duration=n)\n"
     ]
    }
   ],
   "source": [
    "import genre_transition as gt\n",
    "path = \"/Users/dohee/Documents/ds_study/data/new_musics/처진 달팽이_압구정 날라리 korean lyrics.wav\"\n",
    "new_data1 = gt.feature_extraction(file_path=path, file_name='압구정 날라리', n=3)\n",
    "new_data2 = gt.mfcc_extraction(file_path=path, file_name='압구정 날라리', mfcc_n=20,n=3)\n",
    "\n",
    "new_data1 = pd.DataFrame(new_data1)\n",
    "new_data2 = pd.DataFrame(new_data2)\n",
    "\n",
    "new_data = pd.merge(new_data1, new_data2)"
   ]
  },
  {
   "cell_type": "code",
   "execution_count": 84,
   "metadata": {},
   "outputs": [],
   "source": [
    "new_data.to_csv(\"/Users/dohee/Documents/ds_study/data/new_music_csv/disco/압구정 날라리.csv\",index=False)"
   ]
  },
  {
   "attachments": {},
   "cell_type": "markdown",
   "metadata": {},
   "source": [
    "## POP"
   ]
  },
  {
   "cell_type": "markdown",
   "metadata": {},
   "source": []
  }
 ],
 "metadata": {
  "kernelspec": {
   "display_name": "ds_study",
   "language": "python",
   "name": "python3"
  },
  "language_info": {
   "codemirror_mode": {
    "name": "ipython",
    "version": 3
   },
   "file_extension": ".py",
   "mimetype": "text/x-python",
   "name": "python",
   "nbconvert_exporter": "python",
   "pygments_lexer": "ipython3",
   "version": "3.8.16"
  },
  "orig_nbformat": 4,
  "vscode": {
   "interpreter": {
    "hash": "0ce28e86f3cdb977fe7a4d27bc2357f1d7ac89e755aa066857ac77edd380fd5a"
   }
  }
 },
 "nbformat": 4,
 "nbformat_minor": 2
}
