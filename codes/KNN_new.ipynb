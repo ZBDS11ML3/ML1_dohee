{
 "cells": [
  {
   "attachments": {},
   "cell_type": "markdown",
   "metadata": {},
   "source": [
    "데이터 불러오기"
   ]
  },
  {
   "cell_type": "code",
   "execution_count": 1,
   "metadata": {},
   "outputs": [],
   "source": [
    "import librosa\n",
    "import matplotlib.pyplot as plt\n",
    "import IPython.display as ipd\n",
    "import os\n",
    "import numpy as np\n",
    "import pandas as pd\n",
    "import sklearn\n",
    "from sklearn.model_selection import train_test_split\n",
    "from sklearn.preprocessing import MinMaxScaler, RobustScaler, StandardScaler, LabelEncoder\n",
    "from sklearn.metrics import accuracy_score\n",
    "from sklearn.neighbors import KNeighborsClassifier\n",
    "from sklearn.tree import DecisionTreeClassifier\n",
    "from sklearn.ensemble import RandomForestClassifier\n",
    "from sklearn.model_selection import RandomizedSearchCV, GridSearchCV\n",
    "from sklearn.linear_model import LogisticRegression\n",
    "from sklearn.metrics import confusion_matrix\n",
    "import seaborn as sns\n",
    "import statsmodels.api as sm"
   ]
  },
  {
   "cell_type": "code",
   "execution_count": 4,
   "metadata": {},
   "outputs": [
    {
     "data": {
      "text/html": [
       "<div>\n",
       "<style scoped>\n",
       "    .dataframe tbody tr th:only-of-type {\n",
       "        vertical-align: middle;\n",
       "    }\n",
       "\n",
       "    .dataframe tbody tr th {\n",
       "        vertical-align: top;\n",
       "    }\n",
       "\n",
       "    .dataframe thead th {\n",
       "        text-align: right;\n",
       "    }\n",
       "</style>\n",
       "<table border=\"1\" class=\"dataframe\">\n",
       "  <thead>\n",
       "    <tr style=\"text-align: right;\">\n",
       "      <th></th>\n",
       "      <th>filename</th>\n",
       "      <th>length</th>\n",
       "      <th>chroma_stft_mean</th>\n",
       "      <th>chroma_stft_var</th>\n",
       "      <th>rms_mean</th>\n",
       "      <th>rms_var</th>\n",
       "      <th>spectral_centroid_mean</th>\n",
       "      <th>spectral_centroid_var</th>\n",
       "      <th>spectral_bandwidth_mean</th>\n",
       "      <th>spectral_bandwidth_var</th>\n",
       "      <th>...</th>\n",
       "      <th>mfcc16_var</th>\n",
       "      <th>mfcc17_mean</th>\n",
       "      <th>mfcc17_var</th>\n",
       "      <th>mfcc18_mean</th>\n",
       "      <th>mfcc18_var</th>\n",
       "      <th>mfcc19_mean</th>\n",
       "      <th>mfcc19_var</th>\n",
       "      <th>mfcc20_mean</th>\n",
       "      <th>mfcc20_var</th>\n",
       "      <th>label</th>\n",
       "    </tr>\n",
       "  </thead>\n",
       "  <tbody>\n",
       "    <tr>\n",
       "      <th>0</th>\n",
       "      <td>blues.00000.0.wav</td>\n",
       "      <td>66149</td>\n",
       "      <td>0.335406</td>\n",
       "      <td>0.091048</td>\n",
       "      <td>0.130405</td>\n",
       "      <td>0.003521</td>\n",
       "      <td>1773.065032</td>\n",
       "      <td>167541.630869</td>\n",
       "      <td>1972.744388</td>\n",
       "      <td>117335.771563</td>\n",
       "      <td>...</td>\n",
       "      <td>39.687145</td>\n",
       "      <td>-3.241280</td>\n",
       "      <td>36.488243</td>\n",
       "      <td>0.722209</td>\n",
       "      <td>38.099152</td>\n",
       "      <td>-5.050335</td>\n",
       "      <td>33.618073</td>\n",
       "      <td>-0.243027</td>\n",
       "      <td>43.771767</td>\n",
       "      <td>blues</td>\n",
       "    </tr>\n",
       "    <tr>\n",
       "      <th>1</th>\n",
       "      <td>blues.00000.1.wav</td>\n",
       "      <td>66149</td>\n",
       "      <td>0.343065</td>\n",
       "      <td>0.086147</td>\n",
       "      <td>0.112699</td>\n",
       "      <td>0.001450</td>\n",
       "      <td>1816.693777</td>\n",
       "      <td>90525.690866</td>\n",
       "      <td>2010.051501</td>\n",
       "      <td>65671.875673</td>\n",
       "      <td>...</td>\n",
       "      <td>64.748276</td>\n",
       "      <td>-6.055294</td>\n",
       "      <td>40.677654</td>\n",
       "      <td>0.159015</td>\n",
       "      <td>51.264091</td>\n",
       "      <td>-2.837699</td>\n",
       "      <td>97.030830</td>\n",
       "      <td>5.784063</td>\n",
       "      <td>59.943081</td>\n",
       "      <td>blues</td>\n",
       "    </tr>\n",
       "    <tr>\n",
       "      <th>2</th>\n",
       "      <td>blues.00000.2.wav</td>\n",
       "      <td>66149</td>\n",
       "      <td>0.346815</td>\n",
       "      <td>0.092243</td>\n",
       "      <td>0.132003</td>\n",
       "      <td>0.004620</td>\n",
       "      <td>1788.539719</td>\n",
       "      <td>111407.437613</td>\n",
       "      <td>2084.565132</td>\n",
       "      <td>75124.921716</td>\n",
       "      <td>...</td>\n",
       "      <td>67.336563</td>\n",
       "      <td>-1.768610</td>\n",
       "      <td>28.348579</td>\n",
       "      <td>2.378768</td>\n",
       "      <td>45.717648</td>\n",
       "      <td>-1.938424</td>\n",
       "      <td>53.050835</td>\n",
       "      <td>2.517375</td>\n",
       "      <td>33.105122</td>\n",
       "      <td>blues</td>\n",
       "    </tr>\n",
       "    <tr>\n",
       "      <th>3</th>\n",
       "      <td>blues.00000.3.wav</td>\n",
       "      <td>66149</td>\n",
       "      <td>0.363639</td>\n",
       "      <td>0.086856</td>\n",
       "      <td>0.132565</td>\n",
       "      <td>0.002448</td>\n",
       "      <td>1655.289045</td>\n",
       "      <td>111952.284517</td>\n",
       "      <td>1960.039988</td>\n",
       "      <td>82913.639269</td>\n",
       "      <td>...</td>\n",
       "      <td>47.739452</td>\n",
       "      <td>-3.841155</td>\n",
       "      <td>28.337118</td>\n",
       "      <td>1.218588</td>\n",
       "      <td>34.770935</td>\n",
       "      <td>-3.580352</td>\n",
       "      <td>50.836224</td>\n",
       "      <td>3.630866</td>\n",
       "      <td>32.023678</td>\n",
       "      <td>blues</td>\n",
       "    </tr>\n",
       "    <tr>\n",
       "      <th>4</th>\n",
       "      <td>blues.00000.4.wav</td>\n",
       "      <td>66149</td>\n",
       "      <td>0.335579</td>\n",
       "      <td>0.088129</td>\n",
       "      <td>0.143289</td>\n",
       "      <td>0.001701</td>\n",
       "      <td>1630.656199</td>\n",
       "      <td>79667.267654</td>\n",
       "      <td>1948.503884</td>\n",
       "      <td>60204.020268</td>\n",
       "      <td>...</td>\n",
       "      <td>30.336359</td>\n",
       "      <td>0.664582</td>\n",
       "      <td>45.880913</td>\n",
       "      <td>1.689446</td>\n",
       "      <td>51.363583</td>\n",
       "      <td>-3.392489</td>\n",
       "      <td>26.738789</td>\n",
       "      <td>0.536961</td>\n",
       "      <td>29.146694</td>\n",
       "      <td>blues</td>\n",
       "    </tr>\n",
       "  </tbody>\n",
       "</table>\n",
       "<p>5 rows × 60 columns</p>\n",
       "</div>"
      ],
      "text/plain": [
       "            filename  length  chroma_stft_mean  chroma_stft_var  rms_mean  \\\n",
       "0  blues.00000.0.wav   66149          0.335406         0.091048  0.130405   \n",
       "1  blues.00000.1.wav   66149          0.343065         0.086147  0.112699   \n",
       "2  blues.00000.2.wav   66149          0.346815         0.092243  0.132003   \n",
       "3  blues.00000.3.wav   66149          0.363639         0.086856  0.132565   \n",
       "4  blues.00000.4.wav   66149          0.335579         0.088129  0.143289   \n",
       "\n",
       "    rms_var  spectral_centroid_mean  spectral_centroid_var  \\\n",
       "0  0.003521             1773.065032          167541.630869   \n",
       "1  0.001450             1816.693777           90525.690866   \n",
       "2  0.004620             1788.539719          111407.437613   \n",
       "3  0.002448             1655.289045          111952.284517   \n",
       "4  0.001701             1630.656199           79667.267654   \n",
       "\n",
       "   spectral_bandwidth_mean  spectral_bandwidth_var  ...  mfcc16_var  \\\n",
       "0              1972.744388           117335.771563  ...   39.687145   \n",
       "1              2010.051501            65671.875673  ...   64.748276   \n",
       "2              2084.565132            75124.921716  ...   67.336563   \n",
       "3              1960.039988            82913.639269  ...   47.739452   \n",
       "4              1948.503884            60204.020268  ...   30.336359   \n",
       "\n",
       "   mfcc17_mean  mfcc17_var  mfcc18_mean  mfcc18_var  mfcc19_mean  mfcc19_var  \\\n",
       "0    -3.241280   36.488243     0.722209   38.099152    -5.050335   33.618073   \n",
       "1    -6.055294   40.677654     0.159015   51.264091    -2.837699   97.030830   \n",
       "2    -1.768610   28.348579     2.378768   45.717648    -1.938424   53.050835   \n",
       "3    -3.841155   28.337118     1.218588   34.770935    -3.580352   50.836224   \n",
       "4     0.664582   45.880913     1.689446   51.363583    -3.392489   26.738789   \n",
       "\n",
       "   mfcc20_mean  mfcc20_var  label  \n",
       "0    -0.243027   43.771767  blues  \n",
       "1     5.784063   59.943081  blues  \n",
       "2     2.517375   33.105122  blues  \n",
       "3     3.630866   32.023678  blues  \n",
       "4     0.536961   29.146694  blues  \n",
       "\n",
       "[5 rows x 60 columns]"
      ]
     },
     "execution_count": 4,
     "metadata": {},
     "output_type": "execute_result"
    }
   ],
   "source": [
    "df= pd.read_csv('/Users/dohee/Documents/ds_study/ML_project1/datas/features_3_sec.csv')\n",
    "df.head()"
   ]
  },
  {
   "attachments": {},
   "cell_type": "markdown",
   "metadata": {},
   "source": [
    "데이터 나누기\n",
    "\n",
    "random_state = 2023, test_size = 0.3"
   ]
  },
  {
   "cell_type": "code",
   "execution_count": 6,
   "metadata": {},
   "outputs": [],
   "source": [
    "X = df.drop(labels=['filename', 'length','tempo','label'],axis=1)\n",
    "Y = df['label']"
   ]
  },
  {
   "cell_type": "code",
   "execution_count": 8,
   "metadata": {},
   "outputs": [
    {
     "data": {
      "text/html": [
       "<div>\n",
       "<style scoped>\n",
       "    .dataframe tbody tr th:only-of-type {\n",
       "        vertical-align: middle;\n",
       "    }\n",
       "\n",
       "    .dataframe tbody tr th {\n",
       "        vertical-align: top;\n",
       "    }\n",
       "\n",
       "    .dataframe thead th {\n",
       "        text-align: right;\n",
       "    }\n",
       "</style>\n",
       "<table border=\"1\" class=\"dataframe\">\n",
       "  <thead>\n",
       "    <tr style=\"text-align: right;\">\n",
       "      <th></th>\n",
       "      <th>chroma_stft_mean</th>\n",
       "      <th>chroma_stft_var</th>\n",
       "      <th>rms_mean</th>\n",
       "      <th>rms_var</th>\n",
       "      <th>spectral_centroid_mean</th>\n",
       "      <th>spectral_centroid_var</th>\n",
       "      <th>spectral_bandwidth_mean</th>\n",
       "      <th>spectral_bandwidth_var</th>\n",
       "      <th>rolloff_mean</th>\n",
       "      <th>rolloff_var</th>\n",
       "      <th>...</th>\n",
       "      <th>mfcc16_mean</th>\n",
       "      <th>mfcc16_var</th>\n",
       "      <th>mfcc17_mean</th>\n",
       "      <th>mfcc17_var</th>\n",
       "      <th>mfcc18_mean</th>\n",
       "      <th>mfcc18_var</th>\n",
       "      <th>mfcc19_mean</th>\n",
       "      <th>mfcc19_var</th>\n",
       "      <th>mfcc20_mean</th>\n",
       "      <th>mfcc20_var</th>\n",
       "    </tr>\n",
       "  </thead>\n",
       "  <tbody>\n",
       "    <tr>\n",
       "      <th>0</th>\n",
       "      <td>0.355399</td>\n",
       "      <td>0.716757</td>\n",
       "      <td>0.293133</td>\n",
       "      <td>0.107955</td>\n",
       "      <td>0.262173</td>\n",
       "      <td>0.034784</td>\n",
       "      <td>0.459205</td>\n",
       "      <td>0.094130</td>\n",
       "      <td>0.346153</td>\n",
       "      <td>0.083164</td>\n",
       "      <td>...</td>\n",
       "      <td>0.363613</td>\n",
       "      <td>0.056198</td>\n",
       "      <td>0.397172</td>\n",
       "      <td>0.066062</td>\n",
       "      <td>0.371828</td>\n",
       "      <td>0.055344</td>\n",
       "      <td>0.380831</td>\n",
       "      <td>0.026797</td>\n",
       "      <td>0.506746</td>\n",
       "      <td>0.047781</td>\n",
       "    </tr>\n",
       "    <tr>\n",
       "      <th>1</th>\n",
       "      <td>0.367322</td>\n",
       "      <td>0.670347</td>\n",
       "      <td>0.253040</td>\n",
       "      <td>0.044447</td>\n",
       "      <td>0.270969</td>\n",
       "      <td>0.018716</td>\n",
       "      <td>0.470831</td>\n",
       "      <td>0.052261</td>\n",
       "      <td>0.363722</td>\n",
       "      <td>0.051694</td>\n",
       "      <td>...</td>\n",
       "      <td>0.468596</td>\n",
       "      <td>0.092912</td>\n",
       "      <td>0.351681</td>\n",
       "      <td>0.074001</td>\n",
       "      <td>0.362068</td>\n",
       "      <td>0.076365</td>\n",
       "      <td>0.418452</td>\n",
       "      <td>0.082414</td>\n",
       "      <td>0.593029</td>\n",
       "      <td>0.065548</td>\n",
       "    </tr>\n",
       "    <tr>\n",
       "      <th>2</th>\n",
       "      <td>0.373159</td>\n",
       "      <td>0.728067</td>\n",
       "      <td>0.296753</td>\n",
       "      <td>0.141663</td>\n",
       "      <td>0.265293</td>\n",
       "      <td>0.023073</td>\n",
       "      <td>0.494051</td>\n",
       "      <td>0.059922</td>\n",
       "      <td>0.378215</td>\n",
       "      <td>0.060820</td>\n",
       "      <td>...</td>\n",
       "      <td>0.479681</td>\n",
       "      <td>0.096704</td>\n",
       "      <td>0.420979</td>\n",
       "      <td>0.050639</td>\n",
       "      <td>0.400536</td>\n",
       "      <td>0.067509</td>\n",
       "      <td>0.433742</td>\n",
       "      <td>0.043841</td>\n",
       "      <td>0.546264</td>\n",
       "      <td>0.036062</td>\n",
       "    </tr>\n",
       "    <tr>\n",
       "      <th>3</th>\n",
       "      <td>0.399349</td>\n",
       "      <td>0.677066</td>\n",
       "      <td>0.298024</td>\n",
       "      <td>0.075042</td>\n",
       "      <td>0.238427</td>\n",
       "      <td>0.023187</td>\n",
       "      <td>0.455246</td>\n",
       "      <td>0.066234</td>\n",
       "      <td>0.329587</td>\n",
       "      <td>0.070906</td>\n",
       "      <td>...</td>\n",
       "      <td>0.386258</td>\n",
       "      <td>0.067995</td>\n",
       "      <td>0.387474</td>\n",
       "      <td>0.050617</td>\n",
       "      <td>0.380430</td>\n",
       "      <td>0.050030</td>\n",
       "      <td>0.405824</td>\n",
       "      <td>0.041898</td>\n",
       "      <td>0.562204</td>\n",
       "      <td>0.034873</td>\n",
       "    </tr>\n",
       "    <tr>\n",
       "      <th>4</th>\n",
       "      <td>0.355668</td>\n",
       "      <td>0.689113</td>\n",
       "      <td>0.322308</td>\n",
       "      <td>0.052149</td>\n",
       "      <td>0.233460</td>\n",
       "      <td>0.016451</td>\n",
       "      <td>0.451651</td>\n",
       "      <td>0.047830</td>\n",
       "      <td>0.318453</td>\n",
       "      <td>0.046916</td>\n",
       "      <td>...</td>\n",
       "      <td>0.438567</td>\n",
       "      <td>0.042500</td>\n",
       "      <td>0.460314</td>\n",
       "      <td>0.083860</td>\n",
       "      <td>0.388590</td>\n",
       "      <td>0.076524</td>\n",
       "      <td>0.409019</td>\n",
       "      <td>0.020763</td>\n",
       "      <td>0.517913</td>\n",
       "      <td>0.031713</td>\n",
       "    </tr>\n",
       "  </tbody>\n",
       "</table>\n",
       "<p>5 rows × 56 columns</p>\n",
       "</div>"
      ],
      "text/plain": [
       "   chroma_stft_mean  chroma_stft_var  rms_mean   rms_var  \\\n",
       "0          0.355399         0.716757  0.293133  0.107955   \n",
       "1          0.367322         0.670347  0.253040  0.044447   \n",
       "2          0.373159         0.728067  0.296753  0.141663   \n",
       "3          0.399349         0.677066  0.298024  0.075042   \n",
       "4          0.355668         0.689113  0.322308  0.052149   \n",
       "\n",
       "   spectral_centroid_mean  spectral_centroid_var  spectral_bandwidth_mean  \\\n",
       "0                0.262173               0.034784                 0.459205   \n",
       "1                0.270969               0.018716                 0.470831   \n",
       "2                0.265293               0.023073                 0.494051   \n",
       "3                0.238427               0.023187                 0.455246   \n",
       "4                0.233460               0.016451                 0.451651   \n",
       "\n",
       "   spectral_bandwidth_var  rolloff_mean  rolloff_var  ...  mfcc16_mean  \\\n",
       "0                0.094130      0.346153     0.083164  ...     0.363613   \n",
       "1                0.052261      0.363722     0.051694  ...     0.468596   \n",
       "2                0.059922      0.378215     0.060820  ...     0.479681   \n",
       "3                0.066234      0.329587     0.070906  ...     0.386258   \n",
       "4                0.047830      0.318453     0.046916  ...     0.438567   \n",
       "\n",
       "   mfcc16_var  mfcc17_mean  mfcc17_var  mfcc18_mean  mfcc18_var  mfcc19_mean  \\\n",
       "0    0.056198     0.397172    0.066062     0.371828    0.055344     0.380831   \n",
       "1    0.092912     0.351681    0.074001     0.362068    0.076365     0.418452   \n",
       "2    0.096704     0.420979    0.050639     0.400536    0.067509     0.433742   \n",
       "3    0.067995     0.387474    0.050617     0.380430    0.050030     0.405824   \n",
       "4    0.042500     0.460314    0.083860     0.388590    0.076524     0.409019   \n",
       "\n",
       "   mfcc19_var  mfcc20_mean  mfcc20_var  \n",
       "0    0.026797     0.506746    0.047781  \n",
       "1    0.082414     0.593029    0.065548  \n",
       "2    0.043841     0.546264    0.036062  \n",
       "3    0.041898     0.562204    0.034873  \n",
       "4    0.020763     0.517913    0.031713  \n",
       "\n",
       "[5 rows x 56 columns]"
      ]
     },
     "execution_count": 8,
     "metadata": {},
     "output_type": "execute_result"
    }
   ],
   "source": [
    "scaler = sklearn.preprocessing.MinMaxScaler()\n",
    "np_scaled = scaler.fit_transform(X)\n",
    "\n",
    "X = pd.DataFrame(np_scaled, columns=X.columns)\n",
    "\n",
    "X.head()"
   ]
  },
  {
   "cell_type": "code",
   "execution_count": 9,
   "metadata": {},
   "outputs": [],
   "source": [
    "X_train, X_test, y_train, y_test = train_test_split(X, Y, test_size=0.3, random_state=2023)"
   ]
  },
  {
   "cell_type": "code",
   "execution_count": 10,
   "metadata": {},
   "outputs": [
    {
     "name": "stdout",
     "output_type": "stream",
     "text": [
      "(6993, 56) (6993,)\n",
      "(2997, 56) (2997,)\n"
     ]
    }
   ],
   "source": [
    "print(X_train.shape, y_train.shape)\n",
    "print(X_test.shape, y_test.shape)"
   ]
  },
  {
   "attachments": {},
   "cell_type": "markdown",
   "metadata": {},
   "source": [
    "KNN model"
   ]
  },
  {
   "cell_type": "code",
   "execution_count": 11,
   "metadata": {},
   "outputs": [
    {
     "name": "stdout",
     "output_type": "stream",
     "text": [
      "KNeighborsClassifier()\n",
      "Train set Accuracy :  0.9445159445159446\n",
      "Test set Accuracy :  0.9019019019019019\n"
     ]
    }
   ],
   "source": [
    "from sklearn.neighbors import KNeighborsClassifier\n",
    "from sklearn import metrics\n",
    "\n",
    "k=1\n",
    "clf=KNeighborsClassifier().fit(X_train, y_train)\n",
    "print(clf)\n",
    "\n",
    "yhat=clf.predict(X_test)\n",
    "print('Train set Accuracy : ', metrics.accuracy_score(y_train, clf.predict(X_train)))\n",
    "print('Test set Accuracy : ', metrics.accuracy_score(y_test, yhat))"
   ]
  },
  {
   "cell_type": "code",
   "execution_count": 12,
   "metadata": {},
   "outputs": [
    {
     "name": "stdout",
     "output_type": "stream",
     "text": [
      "[0.93760427 0.90824157 0.91491491 0.90323657 0.9019019  0.88755422\n",
      " 0.88755422 0.87687688 0.87287287]\n"
     ]
    }
   ],
   "source": [
    "Ks=10\n",
    "mean_acc = np.zeros((Ks - 1))\n",
    "std_acc = np.zeros((Ks - 1))\n",
    "\n",
    "for n in range(1, Ks):\n",
    "    clf = KNeighborsClassifier(n_neighbors=n).fit(X_train, y_train)\n",
    "    yhat = clf.predict(X_test)\n",
    "    mean_acc[n-1] = metrics.accuracy_score(y_test, yhat)\n",
    "\n",
    "print(mean_acc)"
   ]
  },
  {
   "cell_type": "code",
   "execution_count": 13,
   "metadata": {},
   "outputs": [
    {
     "data": {
      "image/png": "[encoded data removed]",
      "text/plain": [
       "<Figure size 640x480 with 1 Axes>"
      ]
     },
     "metadata": {},
     "output_type": "display_data"
    }
   ],
   "source": [
    "plt.plot(range(1, Ks), mean_acc, 'g')\n",
    "plt.ylabel('Accuracy')\n",
    "plt.xlabel('Number of Neighbors (K)')\n",
    "plt.tight_layout()\n",
    "plt.show()"
   ]
  },
  {
   "cell_type": "code",
   "execution_count": 14,
   "metadata": {},
   "outputs": [
    {
     "data": {
      "text/plain": [
       "array([[269,   2,  10,   1,   1,   4,   0,   0,   4,   3],\n",
       "       [  0, 279,   2,   1,   0,   7,   0,   0,   0,   1],\n",
       "       [  5,   5, 264,  13,   0,   4,   0,   3,  16,   9],\n",
       "       [  1,   2,   4, 273,   3,   1,   0,   1,   0,  12],\n",
       "       [  1,   0,  10,  15, 233,   0,   4,   5,   9,   5],\n",
       "       [  5,  23,  14,   3,   0, 262,   0,   0,   2,   3],\n",
       "       [  4,   1,   1,   8,   1,   0, 271,   0,   2,   6],\n",
       "       [  0,   0,   6,   9,   7,   3,   0, 264,  12,   4],\n",
       "       [  4,   2,   8,   7,   9,   0,   0,   3, 266,   6],\n",
       "       [  7,   3,   9,  18,   3,   5,  13,   2,   4, 235]])"
      ]
     },
     "execution_count": 14,
     "metadata": {},
     "output_type": "execute_result"
    }
   ],
   "source": [
    "from sklearn.metrics import confusion_matrix \n",
    "confusion_matrix(y_test, yhat)"
   ]
  },
  {
   "cell_type": "code",
   "execution_count": 15,
   "metadata": {},
   "outputs": [
    {
     "data": {
      "image/png": "[encoded data removed]",
      "text/plain": [
       "<Figure size 480x480 with 1 Axes>"
      ]
     },
     "metadata": {},
     "output_type": "display_data"
    }
   ],
   "source": [
    "cmf = confusion_matrix(y_test, yhat)\n",
    "plt.matshow(cmf, cmap=plt.cm.RdBu)\n",
    "plt.show()"
   ]
  },
  {
   "attachments": {},
   "cell_type": "markdown",
   "metadata": {},
   "source": [
    "---"
   ]
  },
  {
   "attachments": {},
   "cell_type": "markdown",
   "metadata": {},
   "source": [
    "## 클래식"
   ]
  },
  {
   "cell_type": "code",
   "execution_count": 16,
   "metadata": {},
   "outputs": [],
   "source": [
    "from collections import Counter"
   ]
  },
  {
   "cell_type": "code",
   "execution_count": 21,
   "metadata": {},
   "outputs": [
    {
     "data": {
      "text/plain": [
       "['chroma_stft_mean',\n",
       " 'chroma_stft_var',\n",
       " 'rms_mean',\n",
       " 'rms_var',\n",
       " 'spectral_centroid_mean',\n",
       " 'spectral_centroid_var',\n",
       " 'spectral_bandwidth_mean',\n",
       " 'spectral_bandwidth_var',\n",
       " 'rolloff_mean',\n",
       " 'rolloff_var',\n",
       " 'zero_crossing_rate_mean',\n",
       " 'zero_crossing_rate_var',\n",
       " 'harmony_mean',\n",
       " 'harmony_var',\n",
       " 'perceptr_mean',\n",
       " 'perceptr_var',\n",
       " 'mfcc1_mean',\n",
       " 'mfcc1_var',\n",
       " 'mfcc2_mean',\n",
       " 'mfcc2_var',\n",
       " 'mfcc3_mean',\n",
       " 'mfcc3_var',\n",
       " 'mfcc4_mean',\n",
       " 'mfcc4_var',\n",
       " 'mfcc5_mean',\n",
       " 'mfcc5_var',\n",
       " 'mfcc6_mean',\n",
       " 'mfcc6_var',\n",
       " 'mfcc7_mean',\n",
       " 'mfcc7_var',\n",
       " 'mfcc8_mean',\n",
       " 'mfcc8_var',\n",
       " 'mfcc9_mean',\n",
       " 'mfcc9_var',\n",
       " 'mfcc10_mean',\n",
       " 'mfcc10_var',\n",
       " 'mfcc11_mean',\n",
       " 'mfcc11_var',\n",
       " 'mfcc12_mean',\n",
       " 'mfcc12_var',\n",
       " 'mfcc13_mean',\n",
       " 'mfcc13_var',\n",
       " 'mfcc14_mean',\n",
       " 'mfcc14_var',\n",
       " 'mfcc15_mean',\n",
       " 'mfcc15_var',\n",
       " 'mfcc16_mean',\n",
       " 'mfcc16_var',\n",
       " 'mfcc17_mean',\n",
       " 'mfcc17_var',\n",
       " 'mfcc18_mean',\n",
       " 'mfcc18_var',\n",
       " 'mfcc19_mean',\n",
       " 'mfcc19_var',\n",
       " 'mfcc20_mean',\n",
       " 'mfcc20_var']"
      ]
     },
     "execution_count": 21,
     "metadata": {},
     "output_type": "execute_result"
    }
   ],
   "source": [
    "cols = X_test.columns.tolist()\n",
    "cols"
   ]
  },
  {
   "cell_type": "code",
   "execution_count": 23,
   "metadata": {},
   "outputs": [
    {
     "name": "stderr",
     "output_type": "stream",
     "text": [
      "/Users/dohee/miniforge3/envs/ds_study/lib/python3.8/site-packages/sklearn/base.py:420: UserWarning: X does not have valid feature names, but KNeighborsClassifier was fitted with feature names\n",
      "  warnings.warn(\n"
     ]
    },
    {
     "data": {
      "text/plain": [
       "Counter({'rock': 2, 'classical': 174, 'jazz': 31, 'reggae': 7, 'country': 9})"
      ]
     },
     "execution_count": 23,
     "metadata": {},
     "output_type": "execute_result"
    }
   ],
   "source": [
    "from sklearn.preprocessing import LabelEncoder\n",
    "le = LabelEncoder()\n",
    "df_classical1 = pd.read_csv(\"/Users/dohee/Documents/ds_study/data/new_music_csv/classical/Antonio Vivaldi_3s.csv\")\n",
    "new_x = df_classical1.drop(labels=['path','split','filename'],axis=1)\n",
    "new_x = new_x[cols]\n",
    "new_x=scaler.transform(new_x)\n",
    "new_y_pred = clf.predict(new_x)\n",
    "Counter(new_y_pred)"
   ]
  },
  {
   "cell_type": "code",
   "execution_count": 24,
   "metadata": {},
   "outputs": [
    {
     "name": "stderr",
     "output_type": "stream",
     "text": [
      "/Users/dohee/miniforge3/envs/ds_study/lib/python3.8/site-packages/sklearn/base.py:420: UserWarning: X does not have valid feature names, but KNeighborsClassifier was fitted with feature names\n",
      "  warnings.warn(\n"
     ]
    },
    {
     "data": {
      "text/plain": [
       "Counter({'classical': 39, 'rock': 7, 'disco': 1})"
      ]
     },
     "execution_count": 24,
     "metadata": {},
     "output_type": "execute_result"
    }
   ],
   "source": [
    "df_classical2 = pd.read_csv(\"/Users/dohee/Documents/ds_study/data/new_music_csv/classical/Georges Bizet_3s.csv\")\n",
    "new_x = df_classical2.drop(labels=['path','split','filename'],axis=1)\n",
    "new_x = new_x[cols]\n",
    "new_x=scaler.transform(new_x)\n",
    "new_y_pred = clf.predict(new_x)\n",
    "Counter(new_y_pred)"
   ]
  },
  {
   "cell_type": "code",
   "execution_count": 25,
   "metadata": {},
   "outputs": [
    {
     "name": "stderr",
     "output_type": "stream",
     "text": [
      "/Users/dohee/miniforge3/envs/ds_study/lib/python3.8/site-packages/sklearn/base.py:420: UserWarning: X does not have valid feature names, but KNeighborsClassifier was fitted with feature names\n",
      "  warnings.warn(\n"
     ]
    },
    {
     "data": {
      "text/plain": [
       "Counter({'classical': 39, 'rock': 7, 'disco': 1})"
      ]
     },
     "execution_count": 25,
     "metadata": {},
     "output_type": "execute_result"
    }
   ],
   "source": [
    "df_classical3 = pd.read_csv(\"/Users/dohee/Documents/ds_study/data/new_music_csv/classical/Johann Strauss II_3s.csv\")\n",
    "new_x = df_classical2.drop(labels=['path','split','filename'],axis=1)\n",
    "new_x = new_x[cols]\n",
    "new_x=scaler.transform(new_x)\n",
    "new_y_pred = clf.predict(new_x)\n",
    "Counter(new_y_pred)"
   ]
  },
  {
   "cell_type": "code",
   "execution_count": 26,
   "metadata": {},
   "outputs": [
    {
     "name": "stderr",
     "output_type": "stream",
     "text": [
      "/Users/dohee/miniforge3/envs/ds_study/lib/python3.8/site-packages/sklearn/base.py:420: UserWarning: X does not have valid feature names, but KNeighborsClassifier was fitted with feature names\n",
      "  warnings.warn(\n"
     ]
    },
    {
     "data": {
      "text/plain": [
       "Counter({'classical': 39, 'rock': 7, 'disco': 1})"
      ]
     },
     "execution_count": 26,
     "metadata": {},
     "output_type": "execute_result"
    }
   ],
   "source": [
    "df_classical4 = pd.read_csv(\"/Users/dohee/Documents/ds_study/data/new_music_csv/classical/Mozart_3s.csv\")\n",
    "new_x = df_classical2.drop(labels=['path','split','filename'],axis=1)\n",
    "new_x = new_x[cols]\n",
    "new_x=scaler.transform(new_x)\n",
    "new_y_pred = clf.predict(new_x)\n",
    "Counter(new_y_pred)"
   ]
  },
  {
   "cell_type": "code",
   "execution_count": 27,
   "metadata": {},
   "outputs": [
    {
     "name": "stderr",
     "output_type": "stream",
     "text": [
      "/Users/dohee/miniforge3/envs/ds_study/lib/python3.8/site-packages/sklearn/base.py:420: UserWarning: X does not have valid feature names, but KNeighborsClassifier was fitted with feature names\n",
      "  warnings.warn(\n"
     ]
    },
    {
     "data": {
      "text/plain": [
       "Counter({'classical': 94})"
      ]
     },
     "execution_count": 27,
     "metadata": {},
     "output_type": "execute_result"
    }
   ],
   "source": [
    "df_classical5 = pd.read_csv(\"/Users/dohee/Documents/ds_study/data/new_music_csv/classical/Vienna Philharmonic_3s.csv\")\n",
    "new_x = df_classical5.drop(labels=['path','split','filename'],axis=1)\n",
    "new_x = new_x[cols]\n",
    "new_x=scaler.transform(new_x)\n",
    "new_y_pred = clf.predict(new_x)\n",
    "Counter(new_y_pred)"
   ]
  },
  {
   "attachments": {},
   "cell_type": "markdown",
   "metadata": {},
   "source": [
    "## 블루스"
   ]
  },
  {
   "cell_type": "code",
   "execution_count": 28,
   "metadata": {},
   "outputs": [
    {
     "name": "stderr",
     "output_type": "stream",
     "text": [
      "/Users/dohee/miniforge3/envs/ds_study/lib/python3.8/site-packages/sklearn/base.py:420: UserWarning: X does not have valid feature names, but KNeighborsClassifier was fitted with feature names\n",
      "  warnings.warn(\n"
     ]
    },
    {
     "data": {
      "text/plain": [
       "Counter({'jazz': 52,\n",
       "         'classical': 9,\n",
       "         'blues': 13,\n",
       "         'reggae': 14,\n",
       "         'hiphop': 16,\n",
       "         'disco': 14,\n",
       "         'country': 12,\n",
       "         'rock': 4,\n",
       "         'pop': 3})"
      ]
     },
     "execution_count": 28,
     "metadata": {},
     "output_type": "execute_result"
    }
   ],
   "source": [
    "df_blues1 = pd.read_csv(\"/Users/dohee/Documents/ds_study/data/new_music_csv/blues/Blues Delight2_3s.csv\")\n",
    "new_x = df_blues1.drop(labels=['path','split','filename'],axis=1)\n",
    "new_x = new_x[cols]\n",
    "new_x=scaler.transform(new_x)\n",
    "new_y_pred = clf.predict(new_x)\n",
    "Counter(new_y_pred)"
   ]
  },
  {
   "cell_type": "code",
   "execution_count": 29,
   "metadata": {},
   "outputs": [
    {
     "name": "stderr",
     "output_type": "stream",
     "text": [
      "/Users/dohee/miniforge3/envs/ds_study/lib/python3.8/site-packages/sklearn/base.py:420: UserWarning: X does not have valid feature names, but KNeighborsClassifier was fitted with feature names\n",
      "  warnings.warn(\n"
     ]
    },
    {
     "data": {
      "text/plain": [
       "Counter({'pop': 1,\n",
       "         'blues': 44,\n",
       "         'reggae': 8,\n",
       "         'country': 18,\n",
       "         'jazz': 18,\n",
       "         'hiphop': 3,\n",
       "         'rock': 1,\n",
       "         'classical': 1})"
      ]
     },
     "execution_count": 29,
     "metadata": {},
     "output_type": "execute_result"
    }
   ],
   "source": [
    "df_blues2 = pd.read_csv(\"/Users/dohee/Documents/ds_study/data/new_music_csv/blues/Blues_Delight_3s.csv\")\n",
    "new_x = df_blues2.drop(labels=['path','split','filename'],axis=1)\n",
    "new_x = new_x[cols]\n",
    "new_x=scaler.transform(new_x)\n",
    "new_y_pred = clf.predict(new_x)\n",
    "Counter(new_y_pred)"
   ]
  },
  {
   "cell_type": "code",
   "execution_count": 30,
   "metadata": {},
   "outputs": [
    {
     "name": "stderr",
     "output_type": "stream",
     "text": [
      "/Users/dohee/miniforge3/envs/ds_study/lib/python3.8/site-packages/sklearn/base.py:420: UserWarning: X does not have valid feature names, but KNeighborsClassifier was fitted with feature names\n",
      "  warnings.warn(\n"
     ]
    },
    {
     "data": {
      "text/plain": [
       "Counter({'blues': 79,\n",
       "         'reggae': 34,\n",
       "         'jazz': 19,\n",
       "         'rock': 2,\n",
       "         'country': 11,\n",
       "         'hiphop': 5,\n",
       "         'pop': 1,\n",
       "         'classical': 4})"
      ]
     },
     "execution_count": 30,
     "metadata": {},
     "output_type": "execute_result"
    }
   ],
   "source": [
    "df_blues3 = pd.read_csv(\"/Users/dohee/Documents/ds_study/data/new_music_csv/blues/Jessy Martens_3s.csv\")\n",
    "new_x = df_blues3.drop(labels=['path','split','filename'],axis=1)\n",
    "new_x = new_x[cols]\n",
    "new_x=scaler.transform(new_x)\n",
    "new_y_pred = clf.predict(new_x)\n",
    "Counter(new_y_pred)"
   ]
  },
  {
   "cell_type": "code",
   "execution_count": 31,
   "metadata": {},
   "outputs": [
    {
     "name": "stderr",
     "output_type": "stream",
     "text": [
      "/Users/dohee/miniforge3/envs/ds_study/lib/python3.8/site-packages/sklearn/base.py:420: UserWarning: X does not have valid feature names, but KNeighborsClassifier was fitted with feature names\n",
      "  warnings.warn(\n"
     ]
    },
    {
     "data": {
      "text/plain": [
       "Counter({'blues': 32,\n",
       "         'reggae': 16,\n",
       "         'disco': 17,\n",
       "         'hiphop': 49,\n",
       "         'jazz': 22,\n",
       "         'country': 3,\n",
       "         'rock': 2,\n",
       "         'pop': 2,\n",
       "         'metal': 1})"
      ]
     },
     "execution_count": 31,
     "metadata": {},
     "output_type": "execute_result"
    }
   ],
   "source": [
    "df_blues4 = pd.read_csv(\"/Users/dohee/Documents/ds_study/data/new_music_csv/blues/The Buddaheads_3s.csv\")\n",
    "new_x = df_blues4.drop(labels=['path','split','filename'],axis=1)\n",
    "new_x = new_x[cols]\n",
    "new_x=scaler.transform(new_x)\n",
    "new_y_pred = clf.predict(new_x)\n",
    "Counter(new_y_pred)"
   ]
  },
  {
   "cell_type": "code",
   "execution_count": 32,
   "metadata": {},
   "outputs": [
    {
     "name": "stderr",
     "output_type": "stream",
     "text": [
      "/Users/dohee/miniforge3/envs/ds_study/lib/python3.8/site-packages/sklearn/base.py:420: UserWarning: X does not have valid feature names, but KNeighborsClassifier was fitted with feature names\n",
      "  warnings.warn(\n"
     ]
    },
    {
     "data": {
      "text/plain": [
       "Counter({'jazz': 40,\n",
       "         'reggae': 14,\n",
       "         'disco': 10,\n",
       "         'rock': 9,\n",
       "         'blues': 49,\n",
       "         'country': 30,\n",
       "         'hiphop': 38,\n",
       "         'classical': 1,\n",
       "         'pop': 3})"
      ]
     },
     "execution_count": 32,
     "metadata": {},
     "output_type": "execute_result"
    }
   ],
   "source": [
    "df_blues5 = pd.read_csv(\"/Users/dohee/Documents/ds_study/data/new_music_csv/blues/Twelve Bar Blues Band_3s.csv\")\n",
    "new_x = df_blues5.drop(labels=['path','split','filename'],axis=1)\n",
    "new_x = new_x[cols]\n",
    "new_x=scaler.transform(new_x)\n",
    "new_y_pred = clf.predict(new_x)\n",
    "Counter(new_y_pred)"
   ]
  },
  {
   "attachments": {},
   "cell_type": "markdown",
   "metadata": {},
   "source": [
    "## 메탈"
   ]
  },
  {
   "cell_type": "code",
   "execution_count": 33,
   "metadata": {},
   "outputs": [
    {
     "name": "stderr",
     "output_type": "stream",
     "text": [
      "/Users/dohee/miniforge3/envs/ds_study/lib/python3.8/site-packages/sklearn/base.py:420: UserWarning: X does not have valid feature names, but KNeighborsClassifier was fitted with feature names\n",
      "  warnings.warn(\n"
     ]
    },
    {
     "data": {
      "text/plain": [
       "Counter({'reggae': 6,\n",
       "         'country': 48,\n",
       "         'classical': 1,\n",
       "         'hiphop': 16,\n",
       "         'disco': 16,\n",
       "         'pop': 17,\n",
       "         'metal': 1,\n",
       "         'rock': 2,\n",
       "         'jazz': 3})"
      ]
     },
     "execution_count": 33,
     "metadata": {},
     "output_type": "execute_result"
    }
   ],
   "source": [
    "df_metal1 = pd.read_csv(\"/Users/dohee/Documents/ds_study/data/new_music_csv/metal/Enter Sandman_3s.csv\")\n",
    "new_x = df_metal1.drop(labels=['path','split','filename'],axis=1)\n",
    "new_x = new_x[cols]\n",
    "new_x=scaler.transform(new_x)\n",
    "new_y_pred = clf.predict(new_x)\n",
    "Counter(new_y_pred)"
   ]
  },
  {
   "cell_type": "code",
   "execution_count": 34,
   "metadata": {},
   "outputs": [
    {
     "name": "stderr",
     "output_type": "stream",
     "text": [
      "/Users/dohee/miniforge3/envs/ds_study/lib/python3.8/site-packages/sklearn/base.py:420: UserWarning: X does not have valid feature names, but KNeighborsClassifier was fitted with feature names\n",
      "  warnings.warn(\n"
     ]
    },
    {
     "data": {
      "text/plain": [
       "Counter({'classical': 1,\n",
       "         'rock': 9,\n",
       "         'disco': 26,\n",
       "         'pop': 20,\n",
       "         'jazz': 1,\n",
       "         'country': 12})"
      ]
     },
     "execution_count": 34,
     "metadata": {},
     "output_type": "execute_result"
    }
   ],
   "source": [
    "df_metal2 = pd.read_csv(\"/Users/dohee/Documents/ds_study/data/new_music_csv/metal/Judas Priest_3s.csv\")\n",
    "new_x = df_metal2.drop(labels=['path','split','filename'],axis=1)\n",
    "new_x = new_x[cols]\n",
    "new_x=scaler.transform(new_x)\n",
    "new_y_pred = clf.predict(new_x)\n",
    "Counter(new_y_pred)"
   ]
  },
  {
   "attachments": {},
   "cell_type": "markdown",
   "metadata": {},
   "source": [
    "## 재즈"
   ]
  },
  {
   "cell_type": "code",
   "execution_count": 35,
   "metadata": {},
   "outputs": [
    {
     "name": "stderr",
     "output_type": "stream",
     "text": [
      "/Users/dohee/miniforge3/envs/ds_study/lib/python3.8/site-packages/sklearn/base.py:420: UserWarning: X does not have valid feature names, but KNeighborsClassifier was fitted with feature names\n",
      "  warnings.warn(\n"
     ]
    },
    {
     "data": {
      "text/plain": [
       "Counter({'jazz': 9, 'pop': 4, 'country': 33, 'blues': 7, 'reggae': 7})"
      ]
     },
     "execution_count": 35,
     "metadata": {},
     "output_type": "execute_result"
    }
   ],
   "source": [
    "df_jazz = pd.read_csv(\"/Users/dohee/Documents/ds_study/data/new_music_csv/jazz/Norah Jones_3s.csv\")\n",
    "new_x = df_jazz.drop(labels=['path','split','filename'],axis=1)\n",
    "new_x = new_x[cols]\n",
    "new_x=scaler.transform(new_x)\n",
    "new_y_pred = clf.predict(new_x)\n",
    "Counter(new_y_pred)"
   ]
  },
  {
   "attachments": {},
   "cell_type": "markdown",
   "metadata": {},
   "source": [
    "## 레게"
   ]
  },
  {
   "cell_type": "code",
   "execution_count": 36,
   "metadata": {},
   "outputs": [
    {
     "name": "stderr",
     "output_type": "stream",
     "text": [
      "/Users/dohee/miniforge3/envs/ds_study/lib/python3.8/site-packages/sklearn/base.py:420: UserWarning: X does not have valid feature names, but KNeighborsClassifier was fitted with feature names\n",
      "  warnings.warn(\n"
     ]
    },
    {
     "data": {
      "text/plain": [
       "Counter({'hiphop': 35,\n",
       "         'classical': 3,\n",
       "         'reggae': 46,\n",
       "         'pop': 7,\n",
       "         'blues': 4,\n",
       "         'jazz': 5,\n",
       "         'country': 3,\n",
       "         'disco': 7})"
      ]
     },
     "execution_count": 36,
     "metadata": {},
     "output_type": "execute_result"
    }
   ],
   "source": [
    "df_reggae1= pd.read_csv(\"/Users/dohee/Documents/ds_study/data/new_music_csv/reggae/Rockinit_3s.csv\")\n",
    "new_x = df_reggae1.drop(labels=['path','split','filename'],axis=1)\n",
    "new_x = new_x[cols]\n",
    "new_x=scaler.transform(new_x)\n",
    "new_y_pred = clf.predict(new_x)\n",
    "Counter(new_y_pred)"
   ]
  },
  {
   "cell_type": "code",
   "execution_count": 38,
   "metadata": {},
   "outputs": [
    {
     "name": "stderr",
     "output_type": "stream",
     "text": [
      "/Users/dohee/miniforge3/envs/ds_study/lib/python3.8/site-packages/sklearn/base.py:420: UserWarning: X does not have valid feature names, but KNeighborsClassifier was fitted with feature names\n",
      "  warnings.warn(\n"
     ]
    },
    {
     "data": {
      "text/plain": [
       "Counter({'reggae': 48, 'hiphop': 21, 'disco': 5})"
      ]
     },
     "execution_count": 38,
     "metadata": {},
     "output_type": "execute_result"
    }
   ],
   "source": [
    "df_reggae2= pd.read_csv(\"/Users/dohee/Documents/ds_study/data/new_music_csv/reggae/Under the sun_3s.csv\")\n",
    "new_x = df_reggae2.drop(labels=['path','split','filename'],axis=1)\n",
    "new_x = new_x[cols]\n",
    "new_x=scaler.transform(new_x)\n",
    "new_y_pred = clf.predict(new_x)\n",
    "Counter(new_y_pred)"
   ]
  },
  {
   "attachments": {},
   "cell_type": "markdown",
   "metadata": {},
   "source": [
    "## 락"
   ]
  },
  {
   "cell_type": "code",
   "execution_count": 39,
   "metadata": {},
   "outputs": [
    {
     "name": "stderr",
     "output_type": "stream",
     "text": [
      "/Users/dohee/miniforge3/envs/ds_study/lib/python3.8/site-packages/sklearn/base.py:420: UserWarning: X does not have valid feature names, but KNeighborsClassifier was fitted with feature names\n",
      "  warnings.warn(\n"
     ]
    },
    {
     "data": {
      "text/plain": [
       "Counter({'classical': 5,\n",
       "         'country': 19,\n",
       "         'disco': 17,\n",
       "         'rock': 8,\n",
       "         'hiphop': 21,\n",
       "         'pop': 2})"
      ]
     },
     "execution_count": 39,
     "metadata": {},
     "output_type": "execute_result"
    }
   ],
   "source": [
    "df_rock= pd.read_csv(\"/Users/dohee/Documents/ds_study/data/new_music_csv/rock/5 Seconds of Summer_3s.csv\")\n",
    "new_x = df_rock.drop(labels=['path','split','filename'],axis=1)\n",
    "new_x = new_x[cols]\n",
    "new_x=scaler.transform(new_x)\n",
    "new_y_pred = clf.predict(new_x)\n",
    "Counter(new_y_pred)"
   ]
  },
  {
   "attachments": {},
   "cell_type": "markdown",
   "metadata": {},
   "source": [
    "## 팝"
   ]
  },
  {
   "cell_type": "code",
   "execution_count": 40,
   "metadata": {},
   "outputs": [
    {
     "name": "stderr",
     "output_type": "stream",
     "text": [
      "/Users/dohee/miniforge3/envs/ds_study/lib/python3.8/site-packages/sklearn/base.py:420: UserWarning: X does not have valid feature names, but KNeighborsClassifier was fitted with feature names\n",
      "  warnings.warn(\n"
     ]
    },
    {
     "data": {
      "text/plain": [
       "Counter({'reggae': 16, 'hiphop': 28, 'pop': 17, 'country': 1})"
      ]
     },
     "execution_count": 40,
     "metadata": {},
     "output_type": "execute_result"
    }
   ],
   "source": [
    "df_pop1= pd.read_csv(\"/Users/dohee/Documents/ds_study/data/new_music_csv/pop/Charlie Puth.csv\")\n",
    "new_x = df_pop1.drop(labels=['path','split','filename'],axis=1)\n",
    "new_x = new_x[cols]\n",
    "new_x=scaler.transform(new_x)\n",
    "new_y_pred = clf.predict(new_x)\n",
    "Counter(new_y_pred)"
   ]
  },
  {
   "cell_type": "code",
   "execution_count": 41,
   "metadata": {},
   "outputs": [
    {
     "name": "stderr",
     "output_type": "stream",
     "text": [
      "/Users/dohee/miniforge3/envs/ds_study/lib/python3.8/site-packages/sklearn/base.py:420: UserWarning: X does not have valid feature names, but KNeighborsClassifier was fitted with feature names\n",
      "  warnings.warn(\n"
     ]
    },
    {
     "data": {
      "text/plain": [
       "Counter({'classical': 6,\n",
       "         'reggae': 47,\n",
       "         'jazz': 3,\n",
       "         'hiphop': 13,\n",
       "         'rock': 13,\n",
       "         'disco': 12,\n",
       "         'pop': 4,\n",
       "         'country': 4,\n",
       "         'blues': 1})"
      ]
     },
     "execution_count": 41,
     "metadata": {},
     "output_type": "execute_result"
    }
   ],
   "source": [
    "df_pop2= pd.read_csv(\"/Users/dohee/Documents/ds_study/data/new_music_csv/pop/Taylor Swift.csv\")\n",
    "new_x = df_pop2.drop(labels=['path','split','filename'],axis=1)\n",
    "new_x = new_x[cols]\n",
    "new_x=scaler.transform(new_x)\n",
    "new_y_pred = clf.predict(new_x)\n",
    "Counter(new_y_pred)"
   ]
  },
  {
   "attachments": {},
   "cell_type": "markdown",
   "metadata": {},
   "source": [
    "## 컨트리"
   ]
  },
  {
   "cell_type": "code",
   "execution_count": 42,
   "metadata": {},
   "outputs": [
    {
     "name": "stderr",
     "output_type": "stream",
     "text": [
      "/Users/dohee/miniforge3/envs/ds_study/lib/python3.8/site-packages/sklearn/base.py:420: UserWarning: X does not have valid feature names, but KNeighborsClassifier was fitted with feature names\n",
      "  warnings.warn(\n"
     ]
    },
    {
     "data": {
      "text/plain": [
       "Counter({'rock': 2,\n",
       "         'classical': 2,\n",
       "         'disco': 22,\n",
       "         'pop': 10,\n",
       "         'country': 3,\n",
       "         'hiphop': 12,\n",
       "         'reggae': 6})"
      ]
     },
     "execution_count": 42,
     "metadata": {},
     "output_type": "execute_result"
    }
   ],
   "source": [
    "df_country= pd.read_csv(\"/Users/dohee/Documents/ds_study/data/new_music_csv/country/country.csv\")\n",
    "new_x = df_country.drop(labels=['path','split','filename'],axis=1)\n",
    "new_x = new_x[cols]\n",
    "new_x=scaler.transform(new_x)\n",
    "new_y_pred = clf.predict(new_x)\n",
    "Counter(new_y_pred)"
   ]
  },
  {
   "attachments": {},
   "cell_type": "markdown",
   "metadata": {},
   "source": [
    "## 퓨전"
   ]
  },
  {
   "cell_type": "code",
   "execution_count": 43,
   "metadata": {},
   "outputs": [
    {
     "name": "stderr",
     "output_type": "stream",
     "text": [
      "/Users/dohee/miniforge3/envs/ds_study/lib/python3.8/site-packages/sklearn/base.py:420: UserWarning: X does not have valid feature names, but KNeighborsClassifier was fitted with feature names\n",
      "  warnings.warn(\n"
     ]
    },
    {
     "data": {
      "text/plain": [
       "Counter({'jazz': 2,\n",
       "         'classical': 50,\n",
       "         'country': 6,\n",
       "         'blues': 3,\n",
       "         'hiphop': 4,\n",
       "         'pop': 1})"
      ]
     },
     "execution_count": 43,
     "metadata": {},
     "output_type": "execute_result"
    }
   ],
   "source": [
    "df_fusion1= pd.read_csv(\"/Users/dohee/Documents/ds_study/data/new_music_csv/fusion/fusion1.csv\")\n",
    "new_x = df_fusion1.drop(labels=['path','split','filename'],axis=1)\n",
    "new_x = new_x[cols]\n",
    "new_x=scaler.transform(new_x)\n",
    "new_y_pred = clf.predict(new_x)\n",
    "Counter(new_y_pred)"
   ]
  },
  {
   "cell_type": "code",
   "execution_count": 44,
   "metadata": {},
   "outputs": [
    {
     "name": "stderr",
     "output_type": "stream",
     "text": [
      "/Users/dohee/miniforge3/envs/ds_study/lib/python3.8/site-packages/sklearn/base.py:420: UserWarning: X does not have valid feature names, but KNeighborsClassifier was fitted with feature names\n",
      "  warnings.warn(\n"
     ]
    },
    {
     "data": {
      "text/plain": [
       "Counter({'pop': 7,\n",
       "         'disco': 24,\n",
       "         'rock': 3,\n",
       "         'hiphop': 9,\n",
       "         'reggae': 8,\n",
       "         'jazz': 7,\n",
       "         'country': 1,\n",
       "         'classical': 1})"
      ]
     },
     "execution_count": 44,
     "metadata": {},
     "output_type": "execute_result"
    }
   ],
   "source": [
    "df_fusion2= pd.read_csv(\"/Users/dohee/Documents/ds_study/data/new_music_csv/fusion/fusion2.csv\")\n",
    "new_x = df_fusion2.drop(labels=['path','split','filename'],axis=1)\n",
    "new_x = new_x[cols]\n",
    "new_x=scaler.transform(new_x)\n",
    "new_y_pred = clf.predict(new_x)\n",
    "Counter(new_y_pred)"
   ]
  },
  {
   "attachments": {},
   "cell_type": "markdown",
   "metadata": {},
   "source": [
    "## 힙합"
   ]
  },
  {
   "cell_type": "code",
   "execution_count": 45,
   "metadata": {},
   "outputs": [
    {
     "name": "stderr",
     "output_type": "stream",
     "text": [
      "/Users/dohee/miniforge3/envs/ds_study/lib/python3.8/site-packages/sklearn/base.py:420: UserWarning: X does not have valid feature names, but KNeighborsClassifier was fitted with feature names\n",
      "  warnings.warn(\n"
     ]
    },
    {
     "data": {
      "text/plain": [
       "Counter({'classical': 12,\n",
       "         'hiphop': 39,\n",
       "         'disco': 5,\n",
       "         'reggae': 1,\n",
       "         'pop': 2,\n",
       "         'rock': 1})"
      ]
     },
     "execution_count": 45,
     "metadata": {},
     "output_type": "execute_result"
    }
   ],
   "source": [
    "df_hiphop= pd.read_csv(\"/Users/dohee/Documents/ds_study/data/new_music_csv/hiphop/hiphop.csv\")\n",
    "new_x = df_hiphop.drop(labels=['path','split','filename'],axis=1)\n",
    "new_x = new_x[cols]\n",
    "new_x=scaler.transform(new_x)\n",
    "new_y_pred = clf.predict(new_x)\n",
    "Counter(new_y_pred)"
   ]
  },
  {
   "attachments": {},
   "cell_type": "markdown",
   "metadata": {},
   "source": [
    "## 디스코"
   ]
  },
  {
   "cell_type": "code",
   "execution_count": 46,
   "metadata": {},
   "outputs": [
    {
     "name": "stderr",
     "output_type": "stream",
     "text": [
      "/Users/dohee/miniforge3/envs/ds_study/lib/python3.8/site-packages/sklearn/base.py:420: UserWarning: X does not have valid feature names, but KNeighborsClassifier was fitted with feature names\n",
      "  warnings.warn(\n"
     ]
    },
    {
     "data": {
      "text/plain": [
       "Counter({'hiphop': 8, 'pop': 54, 'disco': 3, 'rock': 1})"
      ]
     },
     "execution_count": 46,
     "metadata": {},
     "output_type": "execute_result"
    }
   ],
   "source": [
    "df_disco1= pd.read_csv(\"/Users/dohee/Documents/ds_study/data/new_music_csv/disco/Lizzo.csv\")\n",
    "new_x = df_disco1.drop(labels=['path','split','filename'],axis=1)\n",
    "new_x = new_x[cols]\n",
    "new_x=scaler.transform(new_x)\n",
    "new_y_pred = clf.predict(new_x)\n",
    "Counter(new_y_pred)"
   ]
  },
  {
   "cell_type": "code",
   "execution_count": 47,
   "metadata": {},
   "outputs": [
    {
     "name": "stderr",
     "output_type": "stream",
     "text": [
      "/Users/dohee/miniforge3/envs/ds_study/lib/python3.8/site-packages/sklearn/base.py:420: UserWarning: X does not have valid feature names, but KNeighborsClassifier was fitted with feature names\n",
      "  warnings.warn(\n"
     ]
    },
    {
     "data": {
      "text/plain": [
       "Counter({'disco': 12, 'pop': 33, 'hiphop': 15})"
      ]
     },
     "execution_count": 47,
     "metadata": {},
     "output_type": "execute_result"
    }
   ],
   "source": [
    "df_disco2= pd.read_csv(\"/Users/dohee/Documents/ds_study/data/new_music_csv/disco/압구정 날라리.csv\")\n",
    "new_x = df_disco2.drop(labels=['path','split','filename'],axis=1)\n",
    "new_x = new_x[cols]\n",
    "new_x=scaler.transform(new_x)\n",
    "new_y_pred = clf.predict(new_x)\n",
    "Counter(new_y_pred)"
   ]
  }
 ],
 "metadata": {
  "kernelspec": {
   "display_name": "ds_study",
   "language": "python",
   "name": "python3"
  },
  "language_info": {
   "codemirror_mode": {
    "name": "ipython",
    "version": 3
   },
   "file_extension": ".py",
   "mimetype": "text/x-python",
   "name": "python",
   "nbconvert_exporter": "python",
   "pygments_lexer": "ipython3",
   "version": "3.8.16"
  },
  "orig_nbformat": 4,
  "vscode": {
   "interpreter": {
    "hash": "0ce28e86f3cdb977fe7a4d27bc2357f1d7ac89e755aa066857ac77edd380fd5a"
   }
  }
 },
 "nbformat": 4,
 "nbformat_minor": 2
}
